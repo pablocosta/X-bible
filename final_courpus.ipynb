{
 "cells": [
  {
   "cell_type": "code",
   "execution_count": 1,
   "metadata": {},
   "outputs": [],
   "source": [
    "import pandas\n",
    "from nltk import ngrams\n",
    "\n",
    "\n",
    "def tokenize(text, nGram=3):\n",
    "    text = text.split(\" \")\n",
    "    grams = []\n",
    "    for i in range(1, nGram):\n",
    "        i_grams = [\n",
    "            \" \".join(gram)\n",
    "            for gram in ngrams(text, i)\n",
    "        ]\n",
    "        grams.extend(i_grams)\n",
    "        \n",
    "    return grams\n",
    "\n",
    "def getNgramOverlap(x, nGram):\n",
    "  overlaps = []\n",
    "  for h, r in zip([x[\"texto_x\"]], [x[\"texto_y\"]]):\n",
    "    if (h == \"\") or (r == \"\"):\n",
    "      overlaps.append(1.0)\n",
    "      continue\n",
    "    a = tokenize(h, nGram)\n",
    "    b = tokenize(r, nGram)\n",
    "\n",
    "    if len(a) >= len(b) and len(a) > 0:\n",
    "      overlaps.append(len(set(a) & set(b))/len(a))\n",
    "    elif len(b) >= len(a) and len(b) > 0:\n",
    "      overlaps.append(len(set(a) & set(b))/len(b))\n",
    "    elif len(a) == 0 or len(b) == 0:\n",
    "      overlaps.append(0)\n",
    "\n",
    "  return overlaps[0]\n",
    "\n",
    "def modulus(x):\n",
    "    if x >= 0:\n",
    "        return x\n",
    "    elif x < 0: \n",
    "        return -(x)"
   ]
  },
  {
   "cell_type": "code",
   "execution_count": 2,
   "metadata": {},
   "outputs": [],
   "source": [
    "df = pandas.read_parquet(\"./data/complete.parquet\")"
   ]
  },
  {
   "cell_type": "code",
   "execution_count": 3,
   "metadata": {},
   "outputs": [],
   "source": [
    "###Formal -> informal\n",
    "\n",
    "\n",
    "df_formal   = df[df[\"formal/informal_x\"] == \"formal\"]\n",
    "df_informal = df[df[\"formal/informal_x\"] == \"informal\"]\n",
    "\n",
    "df_formal_informal = pandas.merge(df_formal, df_informal, on=[\"livro\", \"capitulo\", \"versiculo\", \"language\"], how=\"inner\").drop([\"estilo_x_x\", \"VERSAO_x\", \"forma_x_x\", \"linguagem_x_x\", \"estilo_x_y\",\n",
    "                                                                                                            \"VERSAO_y\", \"forma_x_y\", \"linguagem_x_y\"], axis=1).rename(columns={\"texto_x_x\": \"texto_x\", \"texto_x_y\": \"texto_y\", \n",
    "                                                                                                                                                                               \"formal/informal_x_y\": \"formal/informal_y\",\n",
    "                                                                                                                                                                               \"formal/informal_x_x\": \"formal/informal_x\",\n",
    "                                                                                                                                                                               \"sourceLen_x\": \"sourceLen\", \"sourceLen_y\": \"targetLen\"})\n",
    "\n",
    "###arcaica -> moderna\n",
    "\n",
    "df_formal   = df[df[\"linguagem_x\"] == \"arcaica\"]\n",
    "df_informal = df[df[\"linguagem_x\"] == \"moderna\"]\n",
    "\n",
    "df_arcaica_moderna = pandas.merge(df_formal, df_informal, on=[\"livro\", \"capitulo\", \"versiculo\", \"language\"], how=\"inner\").drop([\"estilo_x_x\", \"VERSAO_x\", \"forma_x_x\", \"formal/informal_x_x\", \"estilo_x_y\",\n",
    "                                                                                                            \"VERSAO_y\", \"forma_x_y\", \"formal/informal_x_y\"], axis=1).rename(columns={\"texto_x_x\": \"texto_x\", \"texto_x_y\": \"texto_y\", \n",
    "                                                                                                                                                                               \"linguagem_x_y\": \"linguagem_y\",\n",
    "                                                                                                                                                                               \"linguagem_x_x\": \"linguagem_x\",\n",
    "                                                                                                                                                                               \"sourceLen_x\": \"sourceLen\", \"sourceLen_y\": \"targetLen\"})\n",
    "###literal -> dinâmica\n",
    "\n",
    "df_formal   = df[df[\"forma_x\"] == \"literal\"]\n",
    "df_informal = df[df[\"forma_x\"] == \"dinâmica\"]\n",
    "\n",
    "df_literal_dinamica = pandas.merge(df_formal, df_informal, on=[\"livro\", \"capitulo\", \"versiculo\", \"language\"], how=\"inner\").drop([\"estilo_x_x\", \"VERSAO_x\", \"linguagem_x_x\", \"formal/informal_x_x\", \"estilo_x_y\",\n",
    "                                                                                                            \"VERSAO_y\", \"linguagem_x_y\", \"formal/informal_x_y\"], axis=1).rename(columns={\"texto_x_x\": \"texto_x\", \"texto_x_y\": \"texto_y\", \n",
    "                                                                                                                                                                               \"forma_x_x\": \"forma_x\",\n",
    "                                                                                                                                                                               \"forma_x_y\": \"forma_y\",\n",
    "                                                                                                                                                                               \"sourceLen_x\": \"sourceLen\", \"sourceLen_y\": \"targetLen\"})"
   ]
  },
  {
   "cell_type": "code",
   "execution_count": 4,
   "metadata": {},
   "outputs": [],
   "source": [
    "df_literal_dinamica[\"overlap-3\"] = df_literal_dinamica.apply(lambda x: getNgramOverlap(x, 3), axis=1)\n",
    "df_literal_dinamica[\"diferenca\"] = (df_literal_dinamica[\"sourceLen\"] - df_literal_dinamica[\"targetLen\"]).apply(lambda x: modulus(x))\n",
    "\n",
    "df_arcaica_moderna[\"overlap-3\"] = df_arcaica_moderna.apply(lambda x: getNgramOverlap(x, 3), axis=1)\n",
    "df_arcaica_moderna[\"diferenca\"] = (df_arcaica_moderna[\"sourceLen\"] - df_arcaica_moderna[\"targetLen\"]).apply(lambda x: modulus(x))\n",
    "\n",
    "df_formal_informal[\"overlap-3\"] = df_formal_informal.apply(lambda x: getNgramOverlap(x, 3), axis=1)\n",
    "df_formal_informal[\"diferenca\"] = (df_formal_informal[\"sourceLen\"] - df_formal_informal[\"targetLen\"]).apply(lambda x: modulus(x))\n",
    "\n"
   ]
  },
  {
   "cell_type": "code",
   "execution_count": 5,
   "metadata": {},
   "outputs": [],
   "source": [
    "pandas.set_option('display.max_colwidth', None)"
   ]
  },
  {
   "cell_type": "code",
   "execution_count": 61,
   "metadata": {},
   "outputs": [
    {
     "name": "stdout",
     "output_type": "stream",
     "text": [
      "52137    têm um versículo para cada uma das\n",
      "Name: texto_x, dtype: object\n",
      "52137    As estradas que levam a Sião estão tristes , pois não há ninguém que vá por elas para as festas religiosas . As moças que cantavam no Templo estão aflitas , e os sacerdotes vivem gemendo . A cidade sofre amargamente , e não há gente para se reunir nas suas praças .\n",
      "Name: texto_y, dtype: object\n",
      "52137    0.009524\n",
      "Name: overlap-3, dtype: float64\n"
     ]
    }
   ],
   "source": [
    "sample = df_formal_informal[(df_formal_informal[\"overlap-3\"] <= 0.01) & (df_formal_informal[\"language\"] == \"PT\")].sample(1)\n",
    "\n",
    "print(sample[\"texto_x\"])\n",
    "print(sample[\"texto_y\"])\n",
    "print(sample[\"overlap-3\"])\n",
    "\n",
    "\n"
   ]
  },
  {
   "cell_type": "code",
   "execution_count": 63,
   "metadata": {},
   "outputs": [
    {
     "name": "stdout",
     "output_type": "stream",
     "text": [
      "67405    a mim que anteriormente fui blasfemo , perseguidor e insolente ; mas alcancei misericórdia , porque o fiz por ignorância e na minha incredulidade ;\n",
      "Name: texto_x, dtype: object\n",
      "67405    Ele fez isso apesar de eu ter dito blasfêmias contra ele no passado e de o ter perseguido e insultado . Mas Deus teve misericórdia de mim , pois eu não tinha fé e por isso não sabia o que estava fazendo .\n",
      "Name: texto_y, dtype: object\n",
      "67405    0.082353\n",
      "Name: overlap-3, dtype: float64\n"
     ]
    }
   ],
   "source": [
    "sample = df_formal_informal[(df_formal_informal[\"overlap-3\"] > 0.01) & (df_formal_informal[\"overlap-3\"] <= 0.10) & (df_formal_informal[\"language\"] == \"PT\")].sample(1)\n",
    "\n",
    "print(sample[\"texto_x\"])\n",
    "print(sample[\"texto_y\"])\n",
    "print(sample[\"overlap-3\"])\n"
   ]
  },
  {
   "cell_type": "code",
   "execution_count": 64,
   "metadata": {},
   "outputs": [
    {
     "name": "stdout",
     "output_type": "stream",
     "text": [
      "3921    Eis que o Senhor , teu Deus , te deu esta terra diante de ti ; sobe e possui-a como te falou o Senhor , Deus de teus pais ; não temas e não te assustes .\n",
      "Name: texto_x, dtype: object\n",
      "3921    Portanto , vão e tomem posse dessa terra que está diante de vocês , como o Senhor , o Deus dos nossos antepassados , mandou . Não tenham medo , nem se assustem. ”\n",
      "Name: texto_y, dtype: object\n",
      "3921    0.191781\n",
      "Name: overlap-3, dtype: float64\n"
     ]
    }
   ],
   "source": [
    "sample = df_formal_informal[(df_formal_informal[\"overlap-3\"] > 0.10) & (df_formal_informal[\"overlap-3\"] <= 0.20) & (df_formal_informal[\"language\"] == \"PT\")].sample(1)\n",
    "\n",
    "print(sample[\"texto_x\"])\n",
    "print(sample[\"texto_y\"])\n",
    "print(sample[\"overlap-3\"])"
   ]
  },
  {
   "cell_type": "code",
   "execution_count": 65,
   "metadata": {},
   "outputs": [
    {
     "name": "stdout",
     "output_type": "stream",
     "text": [
      "53777    Nomearam reis sem que eu consentisse e escolheram príncipes sem minha aprovação . Fizeram para si ídolos de prata e ouro e assim provocaram a própria destruição .\n",
      "Name: texto_x, dtype: object\n",
      "53777    — O meu povo escolheu reis sem me consultar e nomeou governadores sem a minha aprovação . Com a sua prata e com o seu ouro , fizeram ídolos e por isso serão destruídos .\n",
      "Name: texto_y, dtype: object\n",
      "53777    0.202899\n",
      "Name: overlap-3, dtype: float64\n"
     ]
    }
   ],
   "source": [
    "sample = df_formal_informal[(df_formal_informal[\"overlap-3\"] > 0.20) & (df_formal_informal[\"overlap-3\"] <= 0.30) & (df_formal_informal[\"language\"] == \"PT\")].sample(1)\n",
    "\n",
    "print(sample[\"texto_x\"])\n",
    "print(sample[\"texto_y\"])\n",
    "print(sample[\"overlap-3\"])"
   ]
  },
  {
   "cell_type": "code",
   "execution_count": 67,
   "metadata": {},
   "outputs": [
    {
     "name": "stdout",
     "output_type": "stream",
     "text": [
      "22461    “ Naquela ocasião ordenei aos seus juízes : Atendam as demandas de seus irmãos e julguem com justiça , não só as questões entre os seus compatriotas mas também entre um israelita e um estrangeiro .\n",
      "Name: texto_x, dtype: object\n",
      "22461    Naquela mesma ocasião dei a seguinte ordem aos juízes : “ Julguem todas as causas com justiça , seja entre dois israelitas , seja entre um israelita e um estrangeiro que vive no meio do povo .\n",
      "Name: texto_y, dtype: object\n",
      "22461    0.328767\n",
      "Name: overlap-3, dtype: float64\n"
     ]
    }
   ],
   "source": [
    "sample = df_formal_informal[(df_formal_informal[\"overlap-3\"] > 0.30) & (df_formal_informal[\"overlap-3\"] <= 0.40) & (df_formal_informal[\"language\"] == \"PT\")].sample(1)\n",
    "\n",
    "print(sample[\"texto_x\"])\n",
    "print(sample[\"texto_y\"])\n",
    "print(sample[\"overlap-3\"])"
   ]
  },
  {
   "cell_type": "code",
   "execution_count": 68,
   "metadata": {},
   "outputs": [
    {
     "name": "stdout",
     "output_type": "stream",
     "text": [
      "70166    Fará muitos israelitas voltarem ao Senhor , seu Deus .\n",
      "Name: texto_x, dtype: object\n",
      "70166    e levará muitos israelitas ao Senhor , o Deus de Israel .\n",
      "Name: texto_y, dtype: object\n",
      "70166    0.434783\n",
      "Name: overlap-3, dtype: float64\n"
     ]
    }
   ],
   "source": [
    "sample = df_formal_informal[(df_formal_informal[\"overlap-3\"] > 0.40) & (df_formal_informal[\"overlap-3\"] <= 0.50) & (df_formal_informal[\"language\"] == \"PT\")].sample(1)\n",
    "\n",
    "print(sample[\"texto_x\"])\n",
    "print(sample[\"texto_y\"])\n",
    "print(sample[\"overlap-3\"])"
   ]
  },
  {
   "cell_type": "code",
   "execution_count": 69,
   "metadata": {},
   "outputs": [
    {
     "name": "stdout",
     "output_type": "stream",
     "text": [
      "70296    Vinho novo deve ser guardado em recipientes novos .\n",
      "Name: texto_x, dtype: object\n",
      "70296    Não . Vinho novo deve ser posto em odres novos .\n",
      "Name: texto_y, dtype: object\n",
      "70296    0.52381\n",
      "Name: overlap-3, dtype: float64\n"
     ]
    }
   ],
   "source": [
    "sample = df_formal_informal[(df_formal_informal[\"overlap-3\"] > 0.50) & (df_formal_informal[\"overlap-3\"] <= 0.60) & (df_formal_informal[\"language\"] == \"PT\")].sample(1)\n",
    "\n",
    "print(sample[\"texto_x\"])\n",
    "print(sample[\"texto_y\"])\n",
    "print(sample[\"overlap-3\"])"
   ]
  },
  {
   "cell_type": "code",
   "execution_count": 70,
   "metadata": {},
   "outputs": [
    {
     "name": "stdout",
     "output_type": "stream",
     "text": [
      "64679    Respondeu Simão Pedro : “ Então , Senhor , não apenas os meus pés , mas também as minhas mãos e a minha cabeça ! ”\n",
      "Name: texto_x, dtype: object\n",
      "64679    — Então , Senhor , não lave somente os meus pés ; lave também as minhas mãos e a minha cabeça ! — pediu Simão Pedro .\n",
      "Name: texto_y, dtype: object\n",
      "64679    0.622642\n",
      "Name: overlap-3, dtype: float64\n"
     ]
    }
   ],
   "source": [
    "sample = df_formal_informal[(df_formal_informal[\"overlap-3\"] > 0.60) & (df_formal_informal[\"overlap-3\"] <= 0.70) & (df_formal_informal[\"language\"] == \"PT\")].sample(1)\n",
    "\n",
    "print(sample[\"texto_x\"])\n",
    "print(sample[\"texto_y\"])\n",
    "print(sample[\"overlap-3\"])"
   ]
  },
  {
   "cell_type": "code",
   "execution_count": 71,
   "metadata": {},
   "outputs": [
    {
     "name": "stdout",
     "output_type": "stream",
     "text": [
      "68234    Nós amamos porque ele nos amou primeiro .\n",
      "Name: texto_x, dtype: object\n",
      "68234    Nós amamos porque Deus nos amou primeiro .\n",
      "Name: texto_y, dtype: object\n",
      "68234    0.8\n",
      "Name: overlap-3, dtype: float64\n"
     ]
    }
   ],
   "source": [
    "sample = df_formal_informal[(df_formal_informal[\"overlap-3\"] > 0.70) & (df_formal_informal[\"overlap-3\"] <= 0.80) & (df_formal_informal[\"language\"] == \"PT\")].sample(1)\n",
    "\n",
    "print(sample[\"texto_x\"])\n",
    "print(sample[\"texto_y\"])\n",
    "print(sample[\"overlap-3\"])"
   ]
  },
  {
   "cell_type": "code",
   "execution_count": 73,
   "metadata": {},
   "outputs": [
    {
     "name": "stdout",
     "output_type": "stream",
     "text": [
      "30610    Odeio e detesto a falsidade , mas amo a tua lei .\n",
      "Name: texto_x, dtype: object\n",
      "30610    Odeio e detesto a mentira , mas amo a tua lei .\n",
      "Name: texto_y, dtype: object\n",
      "30610    0.826087\n",
      "Name: overlap-3, dtype: float64\n"
     ]
    }
   ],
   "source": [
    "sample = df_formal_informal[(df_formal_informal[\"overlap-3\"] > 0.80) & (df_formal_informal[\"overlap-3\"] <= 0.90) & (df_formal_informal[\"language\"] == \"PT\")].sample(1)\n",
    "\n",
    "print(sample[\"texto_x\"])\n",
    "print(sample[\"texto_y\"])\n",
    "print(sample[\"overlap-3\"])"
   ]
  },
  {
   "cell_type": "code",
   "execution_count": 74,
   "metadata": {},
   "outputs": [
    {
     "name": "stdout",
     "output_type": "stream",
     "text": [
      "12265    O meu socorro vem do Senhor , que fez o céu e a terra .\n",
      "Name: texto_x, dtype: object\n",
      "12265    O meu socorro vem do Senhor Deus , que fez o céu e a terra .\n",
      "Name: texto_y, dtype: object\n",
      "12265    0.903226\n",
      "Name: overlap-3, dtype: float64\n"
     ]
    }
   ],
   "source": [
    "sample = df_formal_informal[(df_formal_informal[\"overlap-3\"] > 0.90) & (df_formal_informal[\"overlap-3\"] <= 1.00) & (df_formal_informal[\"language\"] == \"PT\")].sample(1)\n",
    "\n",
    "print(sample[\"texto_x\"])\n",
    "print(sample[\"texto_y\"])\n",
    "print(sample[\"overlap-3\"])"
   ]
  },
  {
   "cell_type": "code",
   "execution_count": 88,
   "metadata": {},
   "outputs": [
    {
     "name": "stdout",
     "output_type": "stream",
     "text": [
      "antes:  205067933\n",
      "depois:  204899044\n"
     ]
    }
   ],
   "source": []
  },
  {
   "cell_type": "code",
   "execution_count": 6,
   "metadata": {},
   "outputs": [
    {
     "name": "stdout",
     "output_type": "stream",
     "text": [
      "letral - dinamica\n",
      "antes:  (3173858, 12)\n",
      "depois:  (3169293, 12)\n",
      "antes:  205067933\n",
      "depois:  204899044\n",
      "antes:  32.30578258384591\n",
      "depois:  32.32567074107695\n",
      "------\n",
      "formal - informal\n",
      "antes:  (3218423, 12)\n",
      "depois:  (3212611, 12)\n",
      "antes:  200933734\n",
      "depois:  200732567\n",
      "antes:  31.216178544585347\n",
      "depois:  31.24134341194748\n",
      "------\n",
      "arcaica - moderna\n",
      "antes:  (2911032, 12)\n",
      "depois:  (2906935, 12)\n",
      "antes:  189930304\n",
      "depois:  189775582\n",
      "antes:  32.62250363444991\n",
      "depois:  32.64186884123656\n"
     ]
    }
   ],
   "source": [
    "\n",
    "\n",
    "\n",
    "print(\"letral - dinamica\")\n",
    "\n",
    "print(\"antes: \", df_literal_dinamica.shape)\n",
    "print(\"depois: \", df_literal_dinamica[(df_literal_dinamica[\"overlap-3\"] > 0.01)].shape)\n",
    "\n",
    "print(\"antes: \", df_literal_dinamica[\"sourceLen\"].sum() + df_literal_dinamica[\"targetLen\"].sum())\n",
    "print(\"depois: \", df_literal_dinamica[(df_literal_dinamica[\"overlap-3\"] > 0.01)][\"sourceLen\"].sum() + df_literal_dinamica[(df_literal_dinamica[\"overlap-3\"] > 0.01)][\"targetLen\"].sum())\n",
    "\n",
    "print(\"antes: \", (df_literal_dinamica[\"sourceLen\"].mean() + df_literal_dinamica[\"targetLen\"].mean())/2)\n",
    "print(\"depois: \", (df_literal_dinamica[(df_literal_dinamica[\"overlap-3\"] > 0.01)][\"sourceLen\"].mean() + df_literal_dinamica[(df_literal_dinamica[\"overlap-3\"] > 0.01)][\"targetLen\"].mean()) / 2)\n",
    "\n",
    "print(\"------\")\n",
    "\n",
    "print(\"formal - informal\")\n",
    "print(\"antes: \", df_formal_informal.shape)\n",
    "print(\"depois: \", df_formal_informal[(df_formal_informal[\"overlap-3\"] > 0.01)].shape)\n",
    "\n",
    "print(\"antes: \", df_formal_informal[\"sourceLen\"].sum() + df_formal_informal[\"targetLen\"].sum())\n",
    "print(\"depois: \", df_formal_informal[(df_formal_informal[\"overlap-3\"] > 0.01)][\"sourceLen\"].sum() + df_formal_informal[(df_formal_informal[\"overlap-3\"] > 0.01)][\"targetLen\"].sum())\n",
    "\n",
    "print(\"antes: \", (df_formal_informal[\"sourceLen\"].mean() + df_formal_informal[\"targetLen\"].mean())/2)\n",
    "print(\"depois: \", (df_formal_informal[(df_formal_informal[\"overlap-3\"] > 0.01)][\"sourceLen\"].mean() + df_formal_informal[(df_formal_informal[\"overlap-3\"] > 0.01)][\"targetLen\"].mean()) / 2)\n",
    "\n",
    "print(\"------\")\n",
    "\n",
    "print(\"arcaica - moderna\")\n",
    "print(\"antes: \", df_arcaica_moderna.shape)\n",
    "print(\"depois: \", df_arcaica_moderna[(df_arcaica_moderna[\"overlap-3\"] > 0.01)].shape)\n",
    "\n",
    "\n",
    "print(\"antes: \", df_arcaica_moderna[\"sourceLen\"].sum() + df_arcaica_moderna[\"targetLen\"].sum())\n",
    "print(\"depois: \", df_arcaica_moderna[(df_arcaica_moderna[\"overlap-3\"] > 0.01)][\"sourceLen\"].sum() + df_arcaica_moderna[(df_arcaica_moderna[\"overlap-3\"] > 0.01)][\"targetLen\"].sum())\n",
    "\n",
    "\n",
    "print(\"antes: \", (df_arcaica_moderna[\"sourceLen\"].mean() + df_arcaica_moderna[\"targetLen\"].mean())/2)\n",
    "print(\"depois: \", (df_arcaica_moderna[(df_arcaica_moderna[\"overlap-3\"] > 0.01)][\"sourceLen\"].mean() + df_arcaica_moderna[(df_arcaica_moderna[\"overlap-3\"] > 0.01)][\"targetLen\"].mean()) / 2)\n"
   ]
  },
  {
   "cell_type": "code",
   "execution_count": 7,
   "metadata": {},
   "outputs": [],
   "source": [
    "df_literal_dinamica = df_literal_dinamica[(df_literal_dinamica[\"overlap-3\"] > 0.01)]\n",
    "df_formal_informal = df_formal_informal[(df_formal_informal[\"overlap-3\"] > 0.01)]\n",
    "df_arcaica_moderna = df_arcaica_moderna[(df_arcaica_moderna[\"overlap-3\"] > 0.01)]\n",
    "\n",
    "df_arcaica_moderna.to_parquet(\"./data/arcaico_moderno.parquet\", index=False)\n",
    "df_formal_informal.to_parquet(\"./data/formal_informal.parquet\", index=False)\n",
    "df_literal_dinamica.to_parquet(\"./data/literal_dinamica.parquet\", index=False)"
   ]
  }
 ],
 "metadata": {
  "kernelspec": {
   "display_name": "torch",
   "language": "python",
   "name": "python3"
  },
  "language_info": {
   "codemirror_mode": {
    "name": "ipython",
    "version": 3
   },
   "file_extension": ".py",
   "mimetype": "text/x-python",
   "name": "python",
   "nbconvert_exporter": "python",
   "pygments_lexer": "ipython3",
   "version": "3.12.2"
  }
 },
 "nbformat": 4,
 "nbformat_minor": 2
}
