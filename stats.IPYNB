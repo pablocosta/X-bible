{
 "cells": [
  {
   "cell_type": "code",
   "execution_count": 1,
   "metadata": {},
   "outputs": [],
   "source": [
    "import pandas as pd\n",
    "import utils\n",
    "#cerrega todo os arquivos\n",
    "dfNTLNew = pd.read_csv(\"./data/NTLHNew.tsv\", sep=\"\\t\") # esse cara podemos fazer o seguinte filtro: dfNTLNew.loc[dfNTLNew[\"versiculo\"] >= \"1\" ]\n",
    "dfNTLOld = pd.read_csv(\"./data/NTLHOld.tsv\", sep=\"\\t\") # esse cara podemos fazer o seguinte filtro: dfNTLOld.loc[dfNTLOld[\"versiculo\"] >= \"1\" ]\n",
    "\n",
    "dfARCNew = pd.read_csv(\"./data/ARCNew.tsv\", sep=\"\\t\") # esse cara podemos fazer o seguinte filtro: dfARCNew.loc[dfARCNew[\"versiculo\"] >= \"1\" ]\n",
    "dfARCOld = pd.read_csv(\"./data/ARCOld.tsv\", sep=\"\\t\") # esse cara podemos fazer o seguinte filtro: dfARCOld.loc[dfARCOld[\"versiculo\"] >= \"1\" ]\n",
    "\n",
    "dfNVIPTNew = pd.read_csv(\"./data/NVIPTNew.tsv\", sep=\"\\t\") # esse cara podemos fazer o seguinte filtro: dfNVIPTNew.loc[dfNVIPTNew[\"versiculo\"] >= \"1\" ] \n",
    "dfNVIPTOld = pd.read_csv(\"./data/NVIPTOld.tsv\", sep=\"\\t\") # esse cara podemos fazer o seguinte filtro: dfNVIPTOld.loc[dfNVIPTOld[\"versiculo\"] >= \"1\" ] \n",
    "\n",
    "dfNVTNew = pd.read_csv(\"./data/NVTNew.tsv\", sep=\"\\t\") # esse cara podemos fazer o seguinte filtro: dfNVTNew.loc[dfNVTNew[\"versiculo\"] >= \"1\" ] \n",
    "dfNVTOld = pd.read_csv(\"./data/NVTOld.tsv\", sep=\"\\t\") # esse cara podemos fazer o seguinte filtro: dfNVTOld.loc[dfNVTOld[\"versiculo\"] >= \"1\" ] \n",
    "\n",
    "dfOLNew = pd.read_csv(\"./data/OLNew.tsv\", sep=\"\\t\") # esse cara podemos fazer o seguinte filtro: dfOLNew.loc[dfOLNew[\"versiculo\"] >= \"1\" ]\n",
    "dfOLOld = pd.read_csv(\"./data/OLOld.tsv\", sep=\"\\t\") # esse cara podemos fazer o seguinte filtro: dfOLOld.loc[dfOLOld[\"versiculo\"] >= \"1\" ]\n",
    "\n",
    "dfVFLNew = pd.read_csv(\"./data/VFLNew.tsv\", sep=\"\\t\") # esse cara podemos fazer o seguinte filtro: dfVFLNew.loc[dfVFLNew[\"versiculo\"] >= \"1\" ]\n",
    "\n",
    "#eu posso fazer esses filtros ou remover tudo o que tenha o nome do livro por extenso e o nome do estilo. Se fizer isso presaremos reajustasr os indices"
   ]
  },
  {
   "cell_type": "code",
   "execution_count": 2,
   "metadata": {},
   "outputs": [
    {
     "data": {
      "text/html": [
       "<div>\n",
       "<style scoped>\n",
       "    .dataframe tbody tr th:only-of-type {\n",
       "        vertical-align: middle;\n",
       "    }\n",
       "\n",
       "    .dataframe tbody tr th {\n",
       "        vertical-align: top;\n",
       "    }\n",
       "\n",
       "    .dataframe thead th {\n",
       "        text-align: right;\n",
       "    }\n",
       "</style>\n",
       "<table border=\"1\" class=\"dataframe\">\n",
       "  <thead>\n",
       "    <tr style=\"text-align: right;\">\n",
       "      <th></th>\n",
       "      <th>Unnamed: 0</th>\n",
       "      <th>estilo</th>\n",
       "      <th>livro</th>\n",
       "      <th>capitulo</th>\n",
       "      <th>versiculo</th>\n",
       "      <th>texto</th>\n",
       "    </tr>\n",
       "  </thead>\n",
       "  <tbody>\n",
       "    <tr>\n",
       "      <th>0</th>\n",
       "      <td>0</td>\n",
       "      <td>NTLH</td>\n",
       "      <td>Mateus</td>\n",
       "      <td>1</td>\n",
       "      <td>1</td>\n",
       "      <td>Esta é a lista dos antepassados de Jesus Crist...</td>\n",
       "    </tr>\n",
       "    <tr>\n",
       "      <th>1</th>\n",
       "      <td>1</td>\n",
       "      <td>NTLH</td>\n",
       "      <td>Mateus</td>\n",
       "      <td>1</td>\n",
       "      <td>2000</td>\n",
       "      <td>Sociedade Bíblica do Brasil . Todos os direito...</td>\n",
       "    </tr>\n",
       "    <tr>\n",
       "      <th>2</th>\n",
       "      <td>2</td>\n",
       "      <td>NTLH</td>\n",
       "      <td>Mateus</td>\n",
       "      <td>1</td>\n",
       "      <td>2</td>\n",
       "      <td>Abraão foi pai de Isaque , Isaque foi pai de J...</td>\n",
       "    </tr>\n",
       "    <tr>\n",
       "      <th>3</th>\n",
       "      <td>3</td>\n",
       "      <td>NTLH</td>\n",
       "      <td>Mateus</td>\n",
       "      <td>1</td>\n",
       "      <td>3</td>\n",
       "      <td>Judá foi pai de Peres e de Zera , e a mãe dele...</td>\n",
       "    </tr>\n",
       "    <tr>\n",
       "      <th>4</th>\n",
       "      <td>4</td>\n",
       "      <td>NTLH</td>\n",
       "      <td>Mateus</td>\n",
       "      <td>1</td>\n",
       "      <td>4</td>\n",
       "      <td>Arão foi pai de Aminadabe , que foi pai de Nas...</td>\n",
       "    </tr>\n",
       "    <tr>\n",
       "      <th>...</th>\n",
       "      <td>...</td>\n",
       "      <td>...</td>\n",
       "      <td>...</td>\n",
       "      <td>...</td>\n",
       "      <td>...</td>\n",
       "      <td>...</td>\n",
       "    </tr>\n",
       "    <tr>\n",
       "      <th>7892</th>\n",
       "      <td>7892</td>\n",
       "      <td>NTLH</td>\n",
       "      <td>Apocalipse</td>\n",
       "      <td>22</td>\n",
       "      <td>17</td>\n",
       "      <td>O Espírito e a Noiva dizem : — Venha ! Aquele ...</td>\n",
       "    </tr>\n",
       "    <tr>\n",
       "      <th>7893</th>\n",
       "      <td>7893</td>\n",
       "      <td>NTLH</td>\n",
       "      <td>Apocalipse</td>\n",
       "      <td>22</td>\n",
       "      <td>18</td>\n",
       "      <td>Eu , João , aviso solenemente aos que ouvem as...</td>\n",
       "    </tr>\n",
       "    <tr>\n",
       "      <th>7894</th>\n",
       "      <td>7894</td>\n",
       "      <td>NTLH</td>\n",
       "      <td>Apocalipse</td>\n",
       "      <td>22</td>\n",
       "      <td>19</td>\n",
       "      <td>E , se alguma pessoa tirar alguma coisa das pa...</td>\n",
       "    </tr>\n",
       "    <tr>\n",
       "      <th>7895</th>\n",
       "      <td>7895</td>\n",
       "      <td>NTLH</td>\n",
       "      <td>Apocalipse</td>\n",
       "      <td>22</td>\n",
       "      <td>20</td>\n",
       "      <td>Aquele que dá testemunho de tudo isso diz : — ...</td>\n",
       "    </tr>\n",
       "    <tr>\n",
       "      <th>7896</th>\n",
       "      <td>7896</td>\n",
       "      <td>NTLH</td>\n",
       "      <td>Apocalipse</td>\n",
       "      <td>22</td>\n",
       "      <td>21</td>\n",
       "      <td>E que a graça do Senhor Jesus esteja com todos...</td>\n",
       "    </tr>\n",
       "  </tbody>\n",
       "</table>\n",
       "<p>7897 rows × 6 columns</p>\n",
       "</div>"
      ],
      "text/plain": [
       "      Unnamed: 0 estilo       livro  capitulo  versiculo  \\\n",
       "0              0   NTLH      Mateus         1          1   \n",
       "1              1   NTLH      Mateus         1       2000   \n",
       "2              2   NTLH      Mateus         1          2   \n",
       "3              3   NTLH      Mateus         1          3   \n",
       "4              4   NTLH      Mateus         1          4   \n",
       "...          ...    ...         ...       ...        ...   \n",
       "7892        7892   NTLH  Apocalipse        22         17   \n",
       "7893        7893   NTLH  Apocalipse        22         18   \n",
       "7894        7894   NTLH  Apocalipse        22         19   \n",
       "7895        7895   NTLH  Apocalipse        22         20   \n",
       "7896        7896   NTLH  Apocalipse        22         21   \n",
       "\n",
       "                                                  texto  \n",
       "0     Esta é a lista dos antepassados de Jesus Crist...  \n",
       "1     Sociedade Bíblica do Brasil . Todos os direito...  \n",
       "2     Abraão foi pai de Isaque , Isaque foi pai de J...  \n",
       "3     Judá foi pai de Peres e de Zera , e a mãe dele...  \n",
       "4     Arão foi pai de Aminadabe , que foi pai de Nas...  \n",
       "...                                                 ...  \n",
       "7892  O Espírito e a Noiva dizem : — Venha ! Aquele ...  \n",
       "7893  Eu , João , aviso solenemente aos que ouvem as...  \n",
       "7894  E , se alguma pessoa tirar alguma coisa das pa...  \n",
       "7895  Aquele que dá testemunho de tudo isso diz : — ...  \n",
       "7896  E que a graça do Senhor Jesus esteja com todos...  \n",
       "\n",
       "[7897 rows x 6 columns]"
      ]
     },
     "execution_count": 2,
     "metadata": {},
     "output_type": "execute_result"
    }
   ],
   "source": [
    "dfNTLNew"
   ]
  },
  {
   "cell_type": "code",
   "execution_count": 3,
   "metadata": {},
   "outputs": [
    {
     "name": "stdout",
     "output_type": "stream",
     "text": [
      "set()\n",
      "set()\n",
      "set()\n",
      "set()\n",
      "set()\n",
      "set()\n",
      "set()\n",
      "set()\n",
      "set()\n",
      "set()\n"
     ]
    }
   ],
   "source": [
    "#normalizando os nomes do novo testamento\n",
    "\n",
    "print(set(dfNTLNew[\"livro\"]) - set(dfARCNew[\"livro\"]))\n",
    "print(set(dfNTLNew[\"livro\"]) - set(dfVFLNew[\"livro\"]))\n",
    "print(set(dfNTLNew[\"livro\"]) - set(dfNVIPTNew[\"livro\"]))\n",
    "print(set(dfNTLNew[\"livro\"]) - set(dfNVTNew[\"livro\"]))\n",
    "print(set(dfNTLNew[\"livro\"]) - set(dfOLNew[\"livro\"]))\n",
    "\n",
    "dfNVIPTNew[\"livro\"] = dfNVIPTNew[\"livro\"].replace(\"Filemón\", \"Filemom\")\n",
    "dfNVTNew[\"livro\"]   = dfNVTNew[\"livro\"].replace(\"Filemón\", \"Filemom\")\n",
    "dfOLNew[\"livro\"]    = dfOLNew[\"livro\"].replace(\"Filemón\", \"Filemom\")\n",
    "\n",
    "print(set(dfNTLNew[\"livro\"]) - set(dfARCNew[\"livro\"]))\n",
    "print(set(dfNTLNew[\"livro\"]) - set(dfVFLNew[\"livro\"]))\n",
    "print(set(dfNTLNew[\"livro\"]) - set(dfNVIPTNew[\"livro\"]))\n",
    "print(set(dfNTLNew[\"livro\"]) - set(dfNVTNew[\"livro\"]))\n",
    "print(set(dfNTLNew[\"livro\"]) - set(dfOLNew[\"livro\"]))\n"
   ]
  },
  {
   "cell_type": "code",
   "execution_count": 8,
   "metadata": {},
   "outputs": [
    {
     "name": "stdout",
     "output_type": "stream",
     "text": [
      "set()\n",
      "set()\n",
      "set()\n",
      "set()\n"
     ]
    }
   ],
   "source": [
    "dictOldBooksNTLH = {\"Gênesis\": 50,\n",
    "\"Êxodo\": 40,\n",
    "\"Levítico\": 27,\n",
    "\"Números\": 36,\n",
    "\"Deuteronômio\": 34,\n",
    "\"Josué\": 24,\n",
    "\"Juízes\": 21,\n",
    "\"Rute\": 4,\n",
    "\"1%20Samuel\": 31,\n",
    "\"2%20Samuel\": 24,\n",
    "\"1%20Reis\": 22,\n",
    "\"2%20Reis\": 25,\n",
    "\"1%20Crônicas\": 29,\n",
    "\"2%20Crônicas\": 36,\n",
    "\"Esdras\": 10,\n",
    "\"Neemias\": 13,\n",
    "\"Ester\": 10,\n",
    "\"Jó\": 42,\n",
    "\"Salmos\": 150,\n",
    "\"Provérbios\": 31,\n",
    "\"Eclesiastes\": 12,\n",
    "\"Cântico%20dos%20Cânticos\": 8,\n",
    "\"Isaías\": 66,\n",
    "\"Jeremias\": 52,\n",
    "\"Lamentações%20de%20Jeremias\": 5,\n",
    "\"Ezequiel\": 48,\n",
    "\"Daniel\": 12,\n",
    "\"Oseias\": 14,\n",
    "\"Joel\": 3,\n",
    "\"Amós\": 9,\n",
    "\"Obadias\": 1,\n",
    "\"Jonas\": 4,\n",
    "\"Miqueias\": 7,\n",
    "\"Naum\": 3,\n",
    "\"Habacuque\": 3,\n",
    "\"Sofonias\": 3,\n",
    "\"Ageu\": 2,\n",
    "\"Zacarias\":14,\n",
    "\"Malaquias\": 4}\n",
    "\n",
    "dfARCOld[\"livro\"] = dfARCOld[\"livro\"].replace(\"Cantares\", \"Cântico%20dos%20Cânticos\")\n",
    "dfARCOld[\"livro\"] = dfARCOld[\"livro\"].replace(\"Lamentações\", \"Lamentações%20de%20Jeremias\")\n",
    "\n",
    "dfNVIPTOld[\"livro\"] = dfNVIPTOld[\"livro\"].replace(\"Miquéias\", \"Miqueias\")\n",
    "dfNVIPTOld[\"livro\"] = dfNVIPTOld[\"livro\"].replace(\"Cantares%20de%20Salomâo\", \"Cântico%20dos%20Cânticos\")\n",
    "\n",
    "dfNVTOld[\"livro\"] = dfNVTOld[\"livro\"].replace(\"Miquéias\", \"Miqueias\")\n",
    "dfNVTOld[\"livro\"] = dfNVTOld[\"livro\"].replace(\"Cantares%20de%20Salomâo\", \"Cântico%20dos%20Cânticos\")\n",
    "\n",
    "dfOLOld[\"livro\"] = dfOLOld[\"livro\"].replace(\"Miquéias\", \"Miqueias\")\n",
    "dfOLOld[\"livro\"] = dfOLOld[\"livro\"].replace(\"Cantares%20de%20Salomâo\", \"Cântico%20dos%20Cânticos\")\n",
    "\n",
    "\n",
    "print(set(dfNTLOld[\"livro\"]) - set(dfARCOld[\"livro\"]))\n",
    "print(set(dfNTLOld[\"livro\"]) - set(dfNVIPTOld[\"livro\"]))\n",
    "print(set(dfNTLOld[\"livro\"]) - set(dfNVTOld[\"livro\"]))\n",
    "print(set(dfNTLOld[\"livro\"]) - set(dfOLOld[\"livro\"]))\n",
    "\n",
    "\n",
    "\n"
   ]
  },
  {
   "cell_type": "code",
   "execution_count": 26,
   "metadata": {},
   "outputs": [
    {
     "name": "stdout",
     "output_type": "stream",
     "text": [
      "[[    1 21691     1 22613 21684 22052]\n",
      " [    0     1     1 22657 22656 22021]\n",
      " [    0     0     1     1     1     1]\n",
      " [    0     0     0     1 22832 23030]\n",
      " [    0     0     0     0     1 22310]\n",
      " [    0     0     0     0     0     1]]\n"
     ]
    }
   ],
   "source": [
    "\n",
    "import numpy as np\n",
    "#Matriz do velho testamento\n",
    "\n",
    "#         dfNTLOld   dfARCOld   dfVFLOld  dfNVIPTOld   dfNVTOld  dfOLOld\n",
    "#dfNTLOld\n",
    "  \n",
    "#dfARCOld\n",
    "\n",
    "#dfVFLOld\n",
    "\n",
    "#dfNVIPTOld\n",
    "\n",
    "#dfNVTOld\n",
    "\n",
    "#dfOLOld\n",
    "\n"
   ]
  },
  {
   "cell_type": "code",
   "execution_count": 28,
   "metadata": {},
   "outputs": [
    {
     "name": "stdout",
     "output_type": "stream",
     "text": [
      "[[   1 7638 7616 7896 7639 7835]\n",
      " [   1    1 7644 7686 7687 7627]\n",
      " [   1    1    1 7648 7651 7593]\n",
      " [   1    1    1    1 7690 7880]\n",
      " [   1    1    1    1    1 7634]\n",
      " [   1    1    1    1    1    1]]\n"
     ]
    }
   ],
   "source": [
    "\n",
    "#Matriz do novo testamento\n",
    "\n",
    "#         dfNTLNew   dfARCNew   dfVFLNew  dfNVIPTNew   dfNVTNew  dfOLNew\n",
    "#dfNTLNew  \n",
    "\n",
    "#dfARCNew\n",
    "\n",
    "#dfVFLNew\n",
    "\n",
    "#dfNVIPTNew\n",
    "\n",
    "#dfNVTNew\n",
    "\n",
    "#dfOLNew"
   ]
  },
  {
   "cell_type": "code",
   "execution_count": 10,
   "metadata": {},
   "outputs": [],
   "source": [
    "dfNTLNew.to_csv(\"./data/NTLHNew.tsv\", sep=\"\\t\")\n",
    "dfNTLOld.to_csv(\"./data/NTLHOld.tsv\", sep=\"\\t\")\n",
    "\n",
    "dfARCNew.to_csv(\"./data/ARCNew.tsv\", sep=\"\\t\")\n",
    "dfARCOld.to_csv(\"./data/ARCOld.tsv\", sep=\"\\t\")\n",
    "\n",
    "dfNVIPTNew.to_csv(\"./data/NVIPTNew.tsv\", sep=\"\\t\")\n",
    "dfNVIPTOld.to_csv(\"./data/NVIPTOld.tsv\", sep=\"\\t\")\n",
    "\n",
    "dfNVTNew.to_csv(\"./data/NVTNew.tsv\", sep=\"\\t\")\n",
    "dfNVTOld.to_csv(\"./data/NVTOld.tsv\", sep=\"\\t\")\n",
    "\n",
    "dfOLNew.to_csv(\"./data/OLNew.tsv\", sep=\"\\t\")\n",
    "dfOLOld.to_csv(\"./data/OLOld.tsv\", sep=\"\\t\")\n",
    "\n",
    "dfVFLNew.to_csv(\"./data/VFLNew.tsv\", sep=\"\\t\")"
   ]
  },
  {
   "cell_type": "code",
   "execution_count": 31,
   "metadata": {},
   "outputs": [
    {
     "data": {
      "text/html": [
       "<div>\n",
       "<style scoped>\n",
       "    .dataframe tbody tr th:only-of-type {\n",
       "        vertical-align: middle;\n",
       "    }\n",
       "\n",
       "    .dataframe tbody tr th {\n",
       "        vertical-align: top;\n",
       "    }\n",
       "\n",
       "    .dataframe thead th {\n",
       "        text-align: right;\n",
       "    }\n",
       "</style>\n",
       "<table border=\"1\" class=\"dataframe\">\n",
       "  <thead>\n",
       "    <tr style=\"text-align: right;\">\n",
       "      <th></th>\n",
       "      <th>Unnamed: 0_x</th>\n",
       "      <th>estilo_x</th>\n",
       "      <th>livro</th>\n",
       "      <th>capitulo</th>\n",
       "      <th>versiculo</th>\n",
       "      <th>texto_x</th>\n",
       "      <th>Unnamed: 0_y</th>\n",
       "      <th>estilo_y</th>\n",
       "      <th>texto_y</th>\n",
       "    </tr>\n",
       "  </thead>\n",
       "  <tbody>\n",
       "    <tr>\n",
       "      <th>7405</th>\n",
       "      <td>7660</td>\n",
       "      <td>VFL</td>\n",
       "      <td>Apocalipse</td>\n",
       "      <td>9</td>\n",
       "      <td>13</td>\n",
       "      <td>O sexto anjo tocou a sua trombeta e eu ouvi um...</td>\n",
       "      <td>7693</td>\n",
       "      <td>ARC</td>\n",
       "      <td>E tocou o sexto anjo a trombeta , e ouvi uma v...</td>\n",
       "    </tr>\n",
       "    <tr>\n",
       "      <th>2047</th>\n",
       "      <td>2100</td>\n",
       "      <td>VFL</td>\n",
       "      <td>Lucas</td>\n",
       "      <td>7</td>\n",
       "      <td>46</td>\n",
       "      <td>Você não derramou óleo sobre a minha cabeça . ...</td>\n",
       "      <td>2100</td>\n",
       "      <td>ARC</td>\n",
       "      <td>Não me ungiste a cabeça com óleo , mas esta un...</td>\n",
       "    </tr>\n",
       "    <tr>\n",
       "      <th>4955</th>\n",
       "      <td>5094</td>\n",
       "      <td>VFL</td>\n",
       "      <td>Romanos</td>\n",
       "      <td>15</td>\n",
       "      <td>16</td>\n",
       "      <td>o privilégio de ser ministro de Jesus Cristo ,...</td>\n",
       "      <td>5106</td>\n",
       "      <td>ARC</td>\n",
       "      <td>que eu seja ministro de Jesus Cristo entre os ...</td>\n",
       "    </tr>\n",
       "    <tr>\n",
       "      <th>5640</th>\n",
       "      <td>5807</td>\n",
       "      <td>VFL</td>\n",
       "      <td>2%20Coríntios</td>\n",
       "      <td>11</td>\n",
       "      <td>32</td>\n",
       "      <td>Quando estive em Damasco , o governador que se...</td>\n",
       "      <td>5825</td>\n",
       "      <td>ARC</td>\n",
       "      <td>Em Damasco , o que governava sob o rei Aretas ...</td>\n",
       "    </tr>\n",
       "    <tr>\n",
       "      <th>3671</th>\n",
       "      <td>3768</td>\n",
       "      <td>VFL</td>\n",
       "      <td>João</td>\n",
       "      <td>21</td>\n",
       "      <td>12</td>\n",
       "      <td>Jesus lhes disse : —Venham comer . ( Nenhum do...</td>\n",
       "      <td>3771</td>\n",
       "      <td>ARC</td>\n",
       "      <td>Disse-lhes Jesus : Vinde , jantai . E nenhum d...</td>\n",
       "    </tr>\n",
       "  </tbody>\n",
       "</table>\n",
       "</div>"
      ],
      "text/plain": [
       "      Unnamed: 0_x estilo_x          livro  capitulo  versiculo  \\\n",
       "7405          7660      VFL     Apocalipse         9         13   \n",
       "2047          2100      VFL          Lucas         7         46   \n",
       "4955          5094      VFL        Romanos        15         16   \n",
       "5640          5807      VFL  2%20Coríntios        11         32   \n",
       "3671          3768      VFL           João        21         12   \n",
       "\n",
       "                                                texto_x  Unnamed: 0_y  \\\n",
       "7405  O sexto anjo tocou a sua trombeta e eu ouvi um...          7693   \n",
       "2047  Você não derramou óleo sobre a minha cabeça . ...          2100   \n",
       "4955  o privilégio de ser ministro de Jesus Cristo ,...          5106   \n",
       "5640  Quando estive em Damasco , o governador que se...          5825   \n",
       "3671  Jesus lhes disse : —Venham comer . ( Nenhum do...          3771   \n",
       "\n",
       "     estilo_y                                            texto_y  \n",
       "7405      ARC  E tocou o sexto anjo a trombeta , e ouvi uma v...  \n",
       "2047      ARC  Não me ungiste a cabeça com óleo , mas esta un...  \n",
       "4955      ARC  que eu seja ministro de Jesus Cristo entre os ...  \n",
       "5640      ARC  Em Damasco , o que governava sob o rei Aretas ...  \n",
       "3671      ARC  Disse-lhes Jesus : Vinde , jantai . E nenhum d...  "
      ]
     },
     "execution_count": 31,
     "metadata": {},
     "output_type": "execute_result"
    }
   ],
   "source": [
    "dfVFLNew.merge(dfARCNew, on=[\"livro\", \"capitulo\", \"versiculo\"]).sample(5)"
   ]
  },
  {
   "cell_type": "code",
   "execution_count": 32,
   "metadata": {},
   "outputs": [
    {
     "data": {
      "text/html": [
       "<div>\n",
       "<style scoped>\n",
       "    .dataframe tbody tr th:only-of-type {\n",
       "        vertical-align: middle;\n",
       "    }\n",
       "\n",
       "    .dataframe tbody tr th {\n",
       "        vertical-align: top;\n",
       "    }\n",
       "\n",
       "    .dataframe thead th {\n",
       "        text-align: right;\n",
       "    }\n",
       "</style>\n",
       "<table border=\"1\" class=\"dataframe\">\n",
       "  <thead>\n",
       "    <tr style=\"text-align: right;\">\n",
       "      <th></th>\n",
       "      <th>Unnamed: 0_x</th>\n",
       "      <th>estilo_x</th>\n",
       "      <th>livro</th>\n",
       "      <th>capitulo</th>\n",
       "      <th>versiculo</th>\n",
       "      <th>texto_x</th>\n",
       "      <th>Unnamed: 0_y</th>\n",
       "      <th>estilo_y</th>\n",
       "      <th>texto_y</th>\n",
       "    </tr>\n",
       "  </thead>\n",
       "  <tbody>\n",
       "    <tr>\n",
       "      <th>3854</th>\n",
       "      <td>4069</td>\n",
       "      <td>OL</td>\n",
       "      <td>Números</td>\n",
       "      <td>12</td>\n",
       "      <td>16</td>\n",
       "      <td>Partindo dali , de Hazerote , vieram a acampar...</td>\n",
       "      <td>4234</td>\n",
       "      <td>NVT</td>\n",
       "      <td>Então saíram de Hazerote e acamparam no desert...</td>\n",
       "    </tr>\n",
       "    <tr>\n",
       "      <th>14869</th>\n",
       "      <td>15865</td>\n",
       "      <td>OL</td>\n",
       "      <td>Salmos</td>\n",
       "      <td>97</td>\n",
       "      <td>11</td>\n",
       "      <td>A luz é feita para os retos e a alegria para o...</td>\n",
       "      <td>16196</td>\n",
       "      <td>NVT</td>\n",
       "      <td>A luz brilha sobre os justos , e a alegria , s...</td>\n",
       "    </tr>\n",
       "    <tr>\n",
       "      <th>14426</th>\n",
       "      <td>15396</td>\n",
       "      <td>OL</td>\n",
       "      <td>Salmos</td>\n",
       "      <td>73</td>\n",
       "      <td>26</td>\n",
       "      <td>A minha saúde e o meu espírito enfraquecem , m...</td>\n",
       "      <td>15729</td>\n",
       "      <td>NVT</td>\n",
       "      <td>Minha saúde pode acabar e meu espírito fraquej...</td>\n",
       "    </tr>\n",
       "    <tr>\n",
       "      <th>4196</th>\n",
       "      <td>4424</td>\n",
       "      <td>OL</td>\n",
       "      <td>Números</td>\n",
       "      <td>23</td>\n",
       "      <td>30</td>\n",
       "      <td>Balaque fez conforme essa indicação e ofereceu...</td>\n",
       "      <td>4607</td>\n",
       "      <td>NVT</td>\n",
       "      <td>Balaque seguiu as instruções de Balaão e ofere...</td>\n",
       "    </tr>\n",
       "    <tr>\n",
       "      <th>20530</th>\n",
       "      <td>21809</td>\n",
       "      <td>OL</td>\n",
       "      <td>Ezequiel</td>\n",
       "      <td>33</td>\n",
       "      <td>3</td>\n",
       "      <td>quando este vir chegar as tropas inimigas e de...</td>\n",
       "      <td>22164</td>\n",
       "      <td>NVT</td>\n",
       "      <td>Quando o vigia vê o inimigo , ele dá o sinal d...</td>\n",
       "    </tr>\n",
       "  </tbody>\n",
       "</table>\n",
       "</div>"
      ],
      "text/plain": [
       "       Unnamed: 0_x estilo_x     livro  capitulo  versiculo  \\\n",
       "3854           4069       OL   Números        12         16   \n",
       "14869         15865       OL    Salmos        97         11   \n",
       "14426         15396       OL    Salmos        73         26   \n",
       "4196           4424       OL   Números        23         30   \n",
       "20530         21809       OL  Ezequiel        33          3   \n",
       "\n",
       "                                                 texto_x  Unnamed: 0_y  \\\n",
       "3854   Partindo dali , de Hazerote , vieram a acampar...          4234   \n",
       "14869  A luz é feita para os retos e a alegria para o...         16196   \n",
       "14426  A minha saúde e o meu espírito enfraquecem , m...         15729   \n",
       "4196   Balaque fez conforme essa indicação e ofereceu...          4607   \n",
       "20530  quando este vir chegar as tropas inimigas e de...         22164   \n",
       "\n",
       "      estilo_y                                            texto_y  \n",
       "3854       NVT  Então saíram de Hazerote e acamparam no desert...  \n",
       "14869      NVT  A luz brilha sobre os justos , e a alegria , s...  \n",
       "14426      NVT  Minha saúde pode acabar e meu espírito fraquej...  \n",
       "4196       NVT  Balaque seguiu as instruções de Balaão e ofere...  \n",
       "20530      NVT  Quando o vigia vê o inimigo , ele dá o sinal d...  "
      ]
     },
     "execution_count": 32,
     "metadata": {},
     "output_type": "execute_result"
    }
   ],
   "source": [
    "dfOLOld.merge(dfNVTOld, on=[\"livro\", \"capitulo\", \"versiculo\"]).sample(5)"
   ]
  },
  {
   "cell_type": "code",
   "execution_count": 49,
   "metadata": {},
   "outputs": [
    {
     "name": "stdout",
     "output_type": "stream",
     "text": [
      "Novo testamento: \n"
     ]
    },
    {
     "name": "stderr",
     "output_type": "stream",
     "text": [
      "c:\\Users\\pablo\\anaconda3\\envs\\torch\\Lib\\site-packages\\nltk\\translate\\bleu_score.py:552: UserWarning: \n",
      "The hypothesis contains 0 counts of 4-gram overlaps.\n",
      "Therefore the BLEU score evaluates to 0, independently of\n",
      "how many N-gram overlaps of lower order it contains.\n",
      "Consider using lower n-gram order or use SmoothingFunction()\n",
      "  warnings.warn(_msg)\n",
      "c:\\Users\\pablo\\anaconda3\\envs\\torch\\Lib\\site-packages\\nltk\\translate\\bleu_score.py:552: UserWarning: \n",
      "The hypothesis contains 0 counts of 3-gram overlaps.\n",
      "Therefore the BLEU score evaluates to 0, independently of\n",
      "how many N-gram overlaps of lower order it contains.\n",
      "Consider using lower n-gram order or use SmoothingFunction()\n",
      "  warnings.warn(_msg)\n",
      "c:\\Users\\pablo\\anaconda3\\envs\\torch\\Lib\\site-packages\\nltk\\translate\\bleu_score.py:552: UserWarning: \n",
      "The hypothesis contains 0 counts of 2-gram overlaps.\n",
      "Therefore the BLEU score evaluates to 0, independently of\n",
      "how many N-gram overlaps of lower order it contains.\n",
      "Consider using lower n-gram order or use SmoothingFunction()\n",
      "  warnings.warn(_msg)\n"
     ]
    },
    {
     "name": "stdout",
     "output_type": "stream",
     "text": [
      "NTLNew-VFLNew       :  (7616, 7616, 216028, 228171, 28.36502100840336, 29.959427521008404, 0.5344695215763303)\n"
     ]
    },
    {
     "name": "stderr",
     "output_type": "stream",
     "text": [
      "c:\\Users\\pablo\\anaconda3\\envs\\torch\\Lib\\site-packages\\nltk\\translate\\bleu_score.py:552: UserWarning: \n",
      "The hypothesis contains 0 counts of 4-gram overlaps.\n",
      "Therefore the BLEU score evaluates to 0, independently of\n",
      "how many N-gram overlaps of lower order it contains.\n",
      "Consider using lower n-gram order or use SmoothingFunction()\n",
      "  warnings.warn(_msg)\n",
      "c:\\Users\\pablo\\anaconda3\\envs\\torch\\Lib\\site-packages\\nltk\\translate\\bleu_score.py:552: UserWarning: \n",
      "The hypothesis contains 0 counts of 3-gram overlaps.\n",
      "Therefore the BLEU score evaluates to 0, independently of\n",
      "how many N-gram overlaps of lower order it contains.\n",
      "Consider using lower n-gram order or use SmoothingFunction()\n",
      "  warnings.warn(_msg)\n",
      "c:\\Users\\pablo\\anaconda3\\envs\\torch\\Lib\\site-packages\\nltk\\translate\\bleu_score.py:552: UserWarning: \n",
      "The hypothesis contains 0 counts of 2-gram overlaps.\n",
      "Therefore the BLEU score evaluates to 0, independently of\n",
      "how many N-gram overlaps of lower order it contains.\n",
      "Consider using lower n-gram order or use SmoothingFunction()\n",
      "  warnings.warn(_msg)\n"
     ]
    },
    {
     "name": "stdout",
     "output_type": "stream",
     "text": [
      "NTLNew-dfNVIPTNew   :  (7896, 7896, 220289, 196777, 27.898809523809526, 24.92109929078014, 0.46612609653839127)\n"
     ]
    },
    {
     "name": "stderr",
     "output_type": "stream",
     "text": [
      "c:\\Users\\pablo\\anaconda3\\envs\\torch\\Lib\\site-packages\\nltk\\translate\\bleu_score.py:552: UserWarning: \n",
      "The hypothesis contains 0 counts of 4-gram overlaps.\n",
      "Therefore the BLEU score evaluates to 0, independently of\n",
      "how many N-gram overlaps of lower order it contains.\n",
      "Consider using lower n-gram order or use SmoothingFunction()\n",
      "  warnings.warn(_msg)\n",
      "c:\\Users\\pablo\\anaconda3\\envs\\torch\\Lib\\site-packages\\nltk\\translate\\bleu_score.py:552: UserWarning: \n",
      "The hypothesis contains 0 counts of 3-gram overlaps.\n",
      "Therefore the BLEU score evaluates to 0, independently of\n",
      "how many N-gram overlaps of lower order it contains.\n",
      "Consider using lower n-gram order or use SmoothingFunction()\n",
      "  warnings.warn(_msg)\n",
      "c:\\Users\\pablo\\anaconda3\\envs\\torch\\Lib\\site-packages\\nltk\\translate\\bleu_score.py:552: UserWarning: \n",
      "The hypothesis contains 0 counts of 2-gram overlaps.\n",
      "Therefore the BLEU score evaluates to 0, independently of\n",
      "how many N-gram overlaps of lower order it contains.\n",
      "Consider using lower n-gram order or use SmoothingFunction()\n",
      "  warnings.warn(_msg)\n"
     ]
    },
    {
     "name": "stdout",
     "output_type": "stream",
     "text": [
      "NTLNew-dfNVTNew     :  (7639, 7639, 216699, 203209, 28.367456473360388, 26.601518523366934, 0.4620016314028549)\n"
     ]
    },
    {
     "name": "stderr",
     "output_type": "stream",
     "text": [
      "c:\\Users\\pablo\\anaconda3\\envs\\torch\\Lib\\site-packages\\nltk\\translate\\bleu_score.py:552: UserWarning: \n",
      "The hypothesis contains 0 counts of 4-gram overlaps.\n",
      "Therefore the BLEU score evaluates to 0, independently of\n",
      "how many N-gram overlaps of lower order it contains.\n",
      "Consider using lower n-gram order or use SmoothingFunction()\n",
      "  warnings.warn(_msg)\n",
      "c:\\Users\\pablo\\anaconda3\\envs\\torch\\Lib\\site-packages\\nltk\\translate\\bleu_score.py:552: UserWarning: \n",
      "The hypothesis contains 0 counts of 3-gram overlaps.\n",
      "Therefore the BLEU score evaluates to 0, independently of\n",
      "how many N-gram overlaps of lower order it contains.\n",
      "Consider using lower n-gram order or use SmoothingFunction()\n",
      "  warnings.warn(_msg)\n",
      "c:\\Users\\pablo\\anaconda3\\envs\\torch\\Lib\\site-packages\\nltk\\translate\\bleu_score.py:552: UserWarning: \n",
      "The hypothesis contains 0 counts of 2-gram overlaps.\n",
      "Therefore the BLEU score evaluates to 0, independently of\n",
      "how many N-gram overlaps of lower order it contains.\n",
      "Consider using lower n-gram order or use SmoothingFunction()\n",
      "  warnings.warn(_msg)\n"
     ]
    },
    {
     "name": "stdout",
     "output_type": "stream",
     "text": [
      "NTLNew-dfOLNew      :  (7835, 7835, 218803, 205398, 27.92635609444799, 26.215443522654756, 0.3884459442835739)\n"
     ]
    },
    {
     "name": "stderr",
     "output_type": "stream",
     "text": [
      "c:\\Users\\pablo\\anaconda3\\envs\\torch\\Lib\\site-packages\\nltk\\translate\\bleu_score.py:552: UserWarning: \n",
      "The hypothesis contains 0 counts of 3-gram overlaps.\n",
      "Therefore the BLEU score evaluates to 0, independently of\n",
      "how many N-gram overlaps of lower order it contains.\n",
      "Consider using lower n-gram order or use SmoothingFunction()\n",
      "  warnings.warn(_msg)\n",
      "c:\\Users\\pablo\\anaconda3\\envs\\torch\\Lib\\site-packages\\nltk\\translate\\bleu_score.py:552: UserWarning: \n",
      "The hypothesis contains 0 counts of 4-gram overlaps.\n",
      "Therefore the BLEU score evaluates to 0, independently of\n",
      "how many N-gram overlaps of lower order it contains.\n",
      "Consider using lower n-gram order or use SmoothingFunction()\n",
      "  warnings.warn(_msg)\n",
      "c:\\Users\\pablo\\anaconda3\\envs\\torch\\Lib\\site-packages\\nltk\\translate\\bleu_score.py:552: UserWarning: \n",
      "The hypothesis contains 0 counts of 2-gram overlaps.\n",
      "Therefore the BLEU score evaluates to 0, independently of\n",
      "how many N-gram overlaps of lower order it contains.\n",
      "Consider using lower n-gram order or use SmoothingFunction()\n",
      "  warnings.warn(_msg)\n"
     ]
    },
    {
     "name": "stdout",
     "output_type": "stream",
     "text": [
      "dfARCNew-dfVFLNew   :  (7644, 7644, 186652, 229117, 24.41810570381999, 29.973443223443223, 0.4201069084215655)\n"
     ]
    },
    {
     "name": "stderr",
     "output_type": "stream",
     "text": [
      "c:\\Users\\pablo\\anaconda3\\envs\\torch\\Lib\\site-packages\\nltk\\translate\\bleu_score.py:552: UserWarning: \n",
      "The hypothesis contains 0 counts of 3-gram overlaps.\n",
      "Therefore the BLEU score evaluates to 0, independently of\n",
      "how many N-gram overlaps of lower order it contains.\n",
      "Consider using lower n-gram order or use SmoothingFunction()\n",
      "  warnings.warn(_msg)\n",
      "c:\\Users\\pablo\\anaconda3\\envs\\torch\\Lib\\site-packages\\nltk\\translate\\bleu_score.py:552: UserWarning: \n",
      "The hypothesis contains 0 counts of 4-gram overlaps.\n",
      "Therefore the BLEU score evaluates to 0, independently of\n",
      "how many N-gram overlaps of lower order it contains.\n",
      "Consider using lower n-gram order or use SmoothingFunction()\n",
      "  warnings.warn(_msg)\n",
      "c:\\Users\\pablo\\anaconda3\\envs\\torch\\Lib\\site-packages\\nltk\\translate\\bleu_score.py:552: UserWarning: \n",
      "The hypothesis contains 0 counts of 2-gram overlaps.\n",
      "Therefore the BLEU score evaluates to 0, independently of\n",
      "how many N-gram overlaps of lower order it contains.\n",
      "Consider using lower n-gram order or use SmoothingFunction()\n",
      "  warnings.warn(_msg)\n"
     ]
    },
    {
     "name": "stdout",
     "output_type": "stream",
     "text": [
      "dfARCNew-dfNVIPTNew :  (7686, 7686, 187623, 194621, 24.411007025761123, 25.321493624772312, 0.5158761698684662)\n"
     ]
    },
    {
     "name": "stderr",
     "output_type": "stream",
     "text": [
      "c:\\Users\\pablo\\anaconda3\\envs\\torch\\Lib\\site-packages\\nltk\\translate\\bleu_score.py:552: UserWarning: \n",
      "The hypothesis contains 0 counts of 3-gram overlaps.\n",
      "Therefore the BLEU score evaluates to 0, independently of\n",
      "how many N-gram overlaps of lower order it contains.\n",
      "Consider using lower n-gram order or use SmoothingFunction()\n",
      "  warnings.warn(_msg)\n",
      "c:\\Users\\pablo\\anaconda3\\envs\\torch\\Lib\\site-packages\\nltk\\translate\\bleu_score.py:552: UserWarning: \n",
      "The hypothesis contains 0 counts of 4-gram overlaps.\n",
      "Therefore the BLEU score evaluates to 0, independently of\n",
      "how many N-gram overlaps of lower order it contains.\n",
      "Consider using lower n-gram order or use SmoothingFunction()\n",
      "  warnings.warn(_msg)\n",
      "c:\\Users\\pablo\\anaconda3\\envs\\torch\\Lib\\site-packages\\nltk\\translate\\bleu_score.py:552: UserWarning: \n",
      "The hypothesis contains 0 counts of 2-gram overlaps.\n",
      "Therefore the BLEU score evaluates to 0, independently of\n",
      "how many N-gram overlaps of lower order it contains.\n",
      "Consider using lower n-gram order or use SmoothingFunction()\n",
      "  warnings.warn(_msg)\n"
     ]
    },
    {
     "name": "stdout",
     "output_type": "stream",
     "text": [
      "dfARCNew-dfNVTNew   :  (7687, 7687, 187645, 204531, 24.410693378431116, 26.60738909847795, 0.4161165393524054)\n"
     ]
    },
    {
     "name": "stderr",
     "output_type": "stream",
     "text": [
      "c:\\Users\\pablo\\anaconda3\\envs\\torch\\Lib\\site-packages\\nltk\\translate\\bleu_score.py:552: UserWarning: \n",
      "The hypothesis contains 0 counts of 3-gram overlaps.\n",
      "Therefore the BLEU score evaluates to 0, independently of\n",
      "how many N-gram overlaps of lower order it contains.\n",
      "Consider using lower n-gram order or use SmoothingFunction()\n",
      "  warnings.warn(_msg)\n",
      "c:\\Users\\pablo\\anaconda3\\envs\\torch\\Lib\\site-packages\\nltk\\translate\\bleu_score.py:552: UserWarning: \n",
      "The hypothesis contains 0 counts of 4-gram overlaps.\n",
      "Therefore the BLEU score evaluates to 0, independently of\n",
      "how many N-gram overlaps of lower order it contains.\n",
      "Consider using lower n-gram order or use SmoothingFunction()\n",
      "  warnings.warn(_msg)\n",
      "c:\\Users\\pablo\\anaconda3\\envs\\torch\\Lib\\site-packages\\nltk\\translate\\bleu_score.py:552: UserWarning: \n",
      "The hypothesis contains 0 counts of 2-gram overlaps.\n",
      "Therefore the BLEU score evaluates to 0, independently of\n",
      "how many N-gram overlaps of lower order it contains.\n",
      "Consider using lower n-gram order or use SmoothingFunction()\n",
      "  warnings.warn(_msg)\n"
     ]
    },
    {
     "name": "stdout",
     "output_type": "stream",
     "text": [
      "dfARCNew-dfOLNew    :  (7627, 7627, 186364, 203304, 24.434771207552117, 26.65582797954635, 0.40470183574128105)\n"
     ]
    },
    {
     "name": "stderr",
     "output_type": "stream",
     "text": [
      "c:\\Users\\pablo\\anaconda3\\envs\\torch\\Lib\\site-packages\\nltk\\translate\\bleu_score.py:552: UserWarning: \n",
      "The hypothesis contains 0 counts of 4-gram overlaps.\n",
      "Therefore the BLEU score evaluates to 0, independently of\n",
      "how many N-gram overlaps of lower order it contains.\n",
      "Consider using lower n-gram order or use SmoothingFunction()\n",
      "  warnings.warn(_msg)\n",
      "c:\\Users\\pablo\\anaconda3\\envs\\torch\\Lib\\site-packages\\nltk\\translate\\bleu_score.py:552: UserWarning: \n",
      "The hypothesis contains 0 counts of 3-gram overlaps.\n",
      "Therefore the BLEU score evaluates to 0, independently of\n",
      "how many N-gram overlaps of lower order it contains.\n",
      "Consider using lower n-gram order or use SmoothingFunction()\n",
      "  warnings.warn(_msg)\n",
      "c:\\Users\\pablo\\anaconda3\\envs\\torch\\Lib\\site-packages\\nltk\\translate\\bleu_score.py:552: UserWarning: \n",
      "The hypothesis contains 0 counts of 2-gram overlaps.\n",
      "Therefore the BLEU score evaluates to 0, independently of\n",
      "how many N-gram overlaps of lower order it contains.\n",
      "Consider using lower n-gram order or use SmoothingFunction()\n",
      "  warnings.warn(_msg)\n"
     ]
    },
    {
     "name": "stdout",
     "output_type": "stream",
     "text": [
      "dfVFLNew-ARCNew     :  (7648, 7648, 229363, 193660, 29.9899320083682, 25.321652719665273, 0.4845498924502986)\n"
     ]
    },
    {
     "name": "stderr",
     "output_type": "stream",
     "text": [
      "c:\\Users\\pablo\\anaconda3\\envs\\torch\\Lib\\site-packages\\nltk\\translate\\bleu_score.py:552: UserWarning: \n",
      "The hypothesis contains 0 counts of 3-gram overlaps.\n",
      "Therefore the BLEU score evaluates to 0, independently of\n",
      "how many N-gram overlaps of lower order it contains.\n",
      "Consider using lower n-gram order or use SmoothingFunction()\n",
      "  warnings.warn(_msg)\n",
      "c:\\Users\\pablo\\anaconda3\\envs\\torch\\Lib\\site-packages\\nltk\\translate\\bleu_score.py:552: UserWarning: \n",
      "The hypothesis contains 0 counts of 4-gram overlaps.\n",
      "Therefore the BLEU score evaluates to 0, independently of\n",
      "how many N-gram overlaps of lower order it contains.\n",
      "Consider using lower n-gram order or use SmoothingFunction()\n",
      "  warnings.warn(_msg)\n",
      "c:\\Users\\pablo\\anaconda3\\envs\\torch\\Lib\\site-packages\\nltk\\translate\\bleu_score.py:552: UserWarning: \n",
      "The hypothesis contains 0 counts of 2-gram overlaps.\n",
      "Therefore the BLEU score evaluates to 0, independently of\n",
      "how many N-gram overlaps of lower order it contains.\n",
      "Consider using lower n-gram order or use SmoothingFunction()\n",
      "  warnings.warn(_msg)\n"
     ]
    },
    {
     "name": "stdout",
     "output_type": "stream",
     "text": [
      "dfVFLNew-ARCNew     :  (7651, 7651, 229557, 203560, 30.00352895046399, 26.605672461116193, 0.46174621869186816)\n"
     ]
    },
    {
     "name": "stderr",
     "output_type": "stream",
     "text": [
      "c:\\Users\\pablo\\anaconda3\\envs\\torch\\Lib\\site-packages\\nltk\\translate\\bleu_score.py:552: UserWarning: \n",
      "The hypothesis contains 0 counts of 3-gram overlaps.\n",
      "Therefore the BLEU score evaluates to 0, independently of\n",
      "how many N-gram overlaps of lower order it contains.\n",
      "Consider using lower n-gram order or use SmoothingFunction()\n",
      "  warnings.warn(_msg)\n",
      "c:\\Users\\pablo\\anaconda3\\envs\\torch\\Lib\\site-packages\\nltk\\translate\\bleu_score.py:552: UserWarning: \n",
      "The hypothesis contains 0 counts of 4-gram overlaps.\n",
      "Therefore the BLEU score evaluates to 0, independently of\n",
      "how many N-gram overlaps of lower order it contains.\n",
      "Consider using lower n-gram order or use SmoothingFunction()\n",
      "  warnings.warn(_msg)\n",
      "c:\\Users\\pablo\\anaconda3\\envs\\torch\\Lib\\site-packages\\nltk\\translate\\bleu_score.py:552: UserWarning: \n",
      "The hypothesis contains 0 counts of 2-gram overlaps.\n",
      "Therefore the BLEU score evaluates to 0, independently of\n",
      "how many N-gram overlaps of lower order it contains.\n",
      "Consider using lower n-gram order or use SmoothingFunction()\n",
      "  warnings.warn(_msg)\n"
     ]
    },
    {
     "name": "stdout",
     "output_type": "stream",
     "text": [
      "dfVFLNew-ARCNew     :  (7593, 7593, 227734, 202404, 29.992624785987093, 26.65665744764915, 0.3872944579651463)\n"
     ]
    },
    {
     "name": "stderr",
     "output_type": "stream",
     "text": [
      "c:\\Users\\pablo\\anaconda3\\envs\\torch\\Lib\\site-packages\\nltk\\translate\\bleu_score.py:552: UserWarning: \n",
      "The hypothesis contains 0 counts of 4-gram overlaps.\n",
      "Therefore the BLEU score evaluates to 0, independently of\n",
      "how many N-gram overlaps of lower order it contains.\n",
      "Consider using lower n-gram order or use SmoothingFunction()\n",
      "  warnings.warn(_msg)\n",
      "c:\\Users\\pablo\\anaconda3\\envs\\torch\\Lib\\site-packages\\nltk\\translate\\bleu_score.py:552: UserWarning: \n",
      "The hypothesis contains 0 counts of 2-gram overlaps.\n",
      "Therefore the BLEU score evaluates to 0, independently of\n",
      "how many N-gram overlaps of lower order it contains.\n",
      "Consider using lower n-gram order or use SmoothingFunction()\n",
      "  warnings.warn(_msg)\n",
      "c:\\Users\\pablo\\anaconda3\\envs\\torch\\Lib\\site-packages\\nltk\\translate\\bleu_score.py:552: UserWarning: \n",
      "The hypothesis contains 0 counts of 3-gram overlaps.\n",
      "Therefore the BLEU score evaluates to 0, independently of\n",
      "how many N-gram overlaps of lower order it contains.\n",
      "Consider using lower n-gram order or use SmoothingFunction()\n",
      "  warnings.warn(_msg)\n"
     ]
    },
    {
     "name": "stdout",
     "output_type": "stream",
     "text": [
      "dfNVIPTNew-dfNVTNew :  (7690, 7690, 194783, 204574, 25.329388816644993, 26.60260078023407, 0.5471878096138777)\n"
     ]
    },
    {
     "name": "stderr",
     "output_type": "stream",
     "text": [
      "c:\\Users\\pablo\\anaconda3\\envs\\torch\\Lib\\site-packages\\nltk\\translate\\bleu_score.py:552: UserWarning: \n",
      "The hypothesis contains 0 counts of 3-gram overlaps.\n",
      "Therefore the BLEU score evaluates to 0, independently of\n",
      "how many N-gram overlaps of lower order it contains.\n",
      "Consider using lower n-gram order or use SmoothingFunction()\n",
      "  warnings.warn(_msg)\n",
      "c:\\Users\\pablo\\anaconda3\\envs\\torch\\Lib\\site-packages\\nltk\\translate\\bleu_score.py:552: UserWarning: \n",
      "The hypothesis contains 0 counts of 4-gram overlaps.\n",
      "Therefore the BLEU score evaluates to 0, independently of\n",
      "how many N-gram overlaps of lower order it contains.\n",
      "Consider using lower n-gram order or use SmoothingFunction()\n",
      "  warnings.warn(_msg)\n",
      "c:\\Users\\pablo\\anaconda3\\envs\\torch\\Lib\\site-packages\\nltk\\translate\\bleu_score.py:552: UserWarning: \n",
      "The hypothesis contains 0 counts of 2-gram overlaps.\n",
      "Therefore the BLEU score evaluates to 0, independently of\n",
      "how many N-gram overlaps of lower order it contains.\n",
      "Consider using lower n-gram order or use SmoothingFunction()\n",
      "  warnings.warn(_msg)\n"
     ]
    },
    {
     "name": "stdout",
     "output_type": "stream",
     "text": [
      "dfNVIPTNew-dfOLNew  :  (7880, 7880, 196590, 206585, 24.94796954314721, 26.216370558375633, 0.45157872224524825)\n"
     ]
    },
    {
     "name": "stderr",
     "output_type": "stream",
     "text": [
      "c:\\Users\\pablo\\anaconda3\\envs\\torch\\Lib\\site-packages\\nltk\\translate\\bleu_score.py:552: UserWarning: \n",
      "The hypothesis contains 0 counts of 4-gram overlaps.\n",
      "Therefore the BLEU score evaluates to 0, independently of\n",
      "how many N-gram overlaps of lower order it contains.\n",
      "Consider using lower n-gram order or use SmoothingFunction()\n",
      "  warnings.warn(_msg)\n",
      "c:\\Users\\pablo\\anaconda3\\envs\\torch\\Lib\\site-packages\\nltk\\translate\\bleu_score.py:552: UserWarning: \n",
      "The hypothesis contains 0 counts of 3-gram overlaps.\n",
      "Therefore the BLEU score evaluates to 0, independently of\n",
      "how many N-gram overlaps of lower order it contains.\n",
      "Consider using lower n-gram order or use SmoothingFunction()\n",
      "  warnings.warn(_msg)\n",
      "c:\\Users\\pablo\\anaconda3\\envs\\torch\\Lib\\site-packages\\nltk\\translate\\bleu_score.py:552: UserWarning: \n",
      "The hypothesis contains 0 counts of 2-gram overlaps.\n",
      "Therefore the BLEU score evaluates to 0, independently of\n",
      "how many N-gram overlaps of lower order it contains.\n",
      "Consider using lower n-gram order or use SmoothingFunction()\n",
      "  warnings.warn(_msg)\n"
     ]
    },
    {
     "name": "stdout",
     "output_type": "stream",
     "text": [
      "dfNVTNew-dfOLNew    :  (7634, 7634, 203306, 203405, 26.631647891013884, 26.6446161907257, 0.4451488160687411)\n",
      "Velho testamento: \n"
     ]
    },
    {
     "name": "stderr",
     "output_type": "stream",
     "text": [
      "c:\\Users\\pablo\\anaconda3\\envs\\torch\\Lib\\site-packages\\nltk\\translate\\bleu_score.py:552: UserWarning: \n",
      "The hypothesis contains 0 counts of 2-gram overlaps.\n",
      "Therefore the BLEU score evaluates to 0, independently of\n",
      "how many N-gram overlaps of lower order it contains.\n",
      "Consider using lower n-gram order or use SmoothingFunction()\n",
      "  warnings.warn(_msg)\n",
      "c:\\Users\\pablo\\anaconda3\\envs\\torch\\Lib\\site-packages\\nltk\\translate\\bleu_score.py:552: UserWarning: \n",
      "The hypothesis contains 0 counts of 3-gram overlaps.\n",
      "Therefore the BLEU score evaluates to 0, independently of\n",
      "how many N-gram overlaps of lower order it contains.\n",
      "Consider using lower n-gram order or use SmoothingFunction()\n",
      "  warnings.warn(_msg)\n",
      "c:\\Users\\pablo\\anaconda3\\envs\\torch\\Lib\\site-packages\\nltk\\translate\\bleu_score.py:552: UserWarning: \n",
      "The hypothesis contains 0 counts of 4-gram overlaps.\n",
      "Therefore the BLEU score evaluates to 0, independently of\n",
      "how many N-gram overlaps of lower order it contains.\n",
      "Consider using lower n-gram order or use SmoothingFunction()\n",
      "  warnings.warn(_msg)\n"
     ]
    },
    {
     "name": "stdout",
     "output_type": "stream",
     "text": [
      "dfNTLOld-dfARCOld    :  (21691, 21691, 635502, 618649, 29.297957678299756, 28.52099949287723, 0.36625067389481036)\n"
     ]
    },
    {
     "name": "stderr",
     "output_type": "stream",
     "text": [
      "c:\\Users\\pablo\\anaconda3\\envs\\torch\\Lib\\site-packages\\nltk\\translate\\bleu_score.py:552: UserWarning: \n",
      "The hypothesis contains 0 counts of 4-gram overlaps.\n",
      "Therefore the BLEU score evaluates to 0, independently of\n",
      "how many N-gram overlaps of lower order it contains.\n",
      "Consider using lower n-gram order or use SmoothingFunction()\n",
      "  warnings.warn(_msg)\n",
      "c:\\Users\\pablo\\anaconda3\\envs\\torch\\Lib\\site-packages\\nltk\\translate\\bleu_score.py:552: UserWarning: \n",
      "The hypothesis contains 0 counts of 2-gram overlaps.\n",
      "Therefore the BLEU score evaluates to 0, independently of\n",
      "how many N-gram overlaps of lower order it contains.\n",
      "Consider using lower n-gram order or use SmoothingFunction()\n",
      "  warnings.warn(_msg)\n",
      "c:\\Users\\pablo\\anaconda3\\envs\\torch\\Lib\\site-packages\\nltk\\translate\\bleu_score.py:552: UserWarning: \n",
      "The hypothesis contains 0 counts of 3-gram overlaps.\n",
      "Therefore the BLEU score evaluates to 0, independently of\n",
      "how many N-gram overlaps of lower order it contains.\n",
      "Consider using lower n-gram order or use SmoothingFunction()\n",
      "  warnings.warn(_msg)\n"
     ]
    },
    {
     "name": "stdout",
     "output_type": "stream",
     "text": [
      "dfNTLOld-dfNVIPTOld    :  (22613, 22613, 648368, 608551, 28.672356609030203, 26.911555300048644, 0.41979449852217077)\n"
     ]
    },
    {
     "name": "stderr",
     "output_type": "stream",
     "text": [
      "c:\\Users\\pablo\\anaconda3\\envs\\torch\\Lib\\site-packages\\nltk\\translate\\bleu_score.py:552: UserWarning: \n",
      "The hypothesis contains 0 counts of 4-gram overlaps.\n",
      "Therefore the BLEU score evaluates to 0, independently of\n",
      "how many N-gram overlaps of lower order it contains.\n",
      "Consider using lower n-gram order or use SmoothingFunction()\n",
      "  warnings.warn(_msg)\n",
      "c:\\Users\\pablo\\anaconda3\\envs\\torch\\Lib\\site-packages\\nltk\\translate\\bleu_score.py:552: UserWarning: \n",
      "The hypothesis contains 0 counts of 3-gram overlaps.\n",
      "Therefore the BLEU score evaluates to 0, independently of\n",
      "how many N-gram overlaps of lower order it contains.\n",
      "Consider using lower n-gram order or use SmoothingFunction()\n",
      "  warnings.warn(_msg)\n",
      "c:\\Users\\pablo\\anaconda3\\envs\\torch\\Lib\\site-packages\\nltk\\translate\\bleu_score.py:552: UserWarning: \n",
      "The hypothesis contains 0 counts of 2-gram overlaps.\n",
      "Therefore the BLEU score evaluates to 0, independently of\n",
      "how many N-gram overlaps of lower order it contains.\n",
      "Consider using lower n-gram order or use SmoothingFunction()\n",
      "  warnings.warn(_msg)\n"
     ]
    },
    {
     "name": "stdout",
     "output_type": "stream",
     "text": [
      "dfNTLOld-dfNVTOld    :  (21684, 21684, 635335, 604515, 29.29971407489393, 27.878389596015495, 0.41615741797116745)\n"
     ]
    },
    {
     "name": "stderr",
     "output_type": "stream",
     "text": [
      "c:\\Users\\pablo\\anaconda3\\envs\\torch\\Lib\\site-packages\\nltk\\translate\\bleu_score.py:552: UserWarning: \n",
      "The hypothesis contains 0 counts of 3-gram overlaps.\n",
      "Therefore the BLEU score evaluates to 0, independently of\n",
      "how many N-gram overlaps of lower order it contains.\n",
      "Consider using lower n-gram order or use SmoothingFunction()\n",
      "  warnings.warn(_msg)\n",
      "c:\\Users\\pablo\\anaconda3\\envs\\torch\\Lib\\site-packages\\nltk\\translate\\bleu_score.py:552: UserWarning: \n",
      "The hypothesis contains 0 counts of 4-gram overlaps.\n",
      "Therefore the BLEU score evaluates to 0, independently of\n",
      "how many N-gram overlaps of lower order it contains.\n",
      "Consider using lower n-gram order or use SmoothingFunction()\n",
      "  warnings.warn(_msg)\n",
      "c:\\Users\\pablo\\anaconda3\\envs\\torch\\Lib\\site-packages\\nltk\\translate\\bleu_score.py:552: UserWarning: \n",
      "The hypothesis contains 0 counts of 2-gram overlaps.\n",
      "Therefore the BLEU score evaluates to 0, independently of\n",
      "how many N-gram overlaps of lower order it contains.\n",
      "Consider using lower n-gram order or use SmoothingFunction()\n",
      "  warnings.warn(_msg)\n"
     ]
    },
    {
     "name": "stdout",
     "output_type": "stream",
     "text": [
      "dfNTLOld-dfOLOld    :  (22052, 22052, 633606, 582794, 28.732359876655178, 26.428169780518775, 0.3264010744319446)\n"
     ]
    },
    {
     "name": "stderr",
     "output_type": "stream",
     "text": [
      "c:\\Users\\pablo\\anaconda3\\envs\\torch\\Lib\\site-packages\\nltk\\translate\\bleu_score.py:552: UserWarning: \n",
      "The hypothesis contains 0 counts of 4-gram overlaps.\n",
      "Therefore the BLEU score evaluates to 0, independently of\n",
      "how many N-gram overlaps of lower order it contains.\n",
      "Consider using lower n-gram order or use SmoothingFunction()\n",
      "  warnings.warn(_msg)\n",
      "c:\\Users\\pablo\\anaconda3\\envs\\torch\\Lib\\site-packages\\nltk\\translate\\bleu_score.py:552: UserWarning: \n",
      "The hypothesis contains 0 counts of 3-gram overlaps.\n",
      "Therefore the BLEU score evaluates to 0, independently of\n",
      "how many N-gram overlaps of lower order it contains.\n",
      "Consider using lower n-gram order or use SmoothingFunction()\n",
      "  warnings.warn(_msg)\n",
      "c:\\Users\\pablo\\anaconda3\\envs\\torch\\Lib\\site-packages\\nltk\\translate\\bleu_score.py:552: UserWarning: \n",
      "The hypothesis contains 0 counts of 2-gram overlaps.\n",
      "Therefore the BLEU score evaluates to 0, independently of\n",
      "how many N-gram overlaps of lower order it contains.\n",
      "Consider using lower n-gram order or use SmoothingFunction()\n",
      "  warnings.warn(_msg)\n"
     ]
    },
    {
     "name": "stdout",
     "output_type": "stream",
     "text": [
      "dfARCOld-dfNVIPTOld    :  (22657, 22657, 640266, 615714, 28.259081078695328, 27.1754424681114, 0.46004519159420526)\n"
     ]
    },
    {
     "name": "stderr",
     "output_type": "stream",
     "text": [
      "c:\\Users\\pablo\\anaconda3\\envs\\torch\\Lib\\site-packages\\nltk\\translate\\bleu_score.py:552: UserWarning: \n",
      "The hypothesis contains 0 counts of 4-gram overlaps.\n",
      "Therefore the BLEU score evaluates to 0, independently of\n",
      "how many N-gram overlaps of lower order it contains.\n",
      "Consider using lower n-gram order or use SmoothingFunction()\n",
      "  warnings.warn(_msg)\n",
      "c:\\Users\\pablo\\anaconda3\\envs\\torch\\Lib\\site-packages\\nltk\\translate\\bleu_score.py:552: UserWarning: \n",
      "The hypothesis contains 0 counts of 3-gram overlaps.\n",
      "Therefore the BLEU score evaluates to 0, independently of\n",
      "how many N-gram overlaps of lower order it contains.\n",
      "Consider using lower n-gram order or use SmoothingFunction()\n",
      "  warnings.warn(_msg)\n",
      "c:\\Users\\pablo\\anaconda3\\envs\\torch\\Lib\\site-packages\\nltk\\translate\\bleu_score.py:552: UserWarning: \n",
      "The hypothesis contains 0 counts of 2-gram overlaps.\n",
      "Therefore the BLEU score evaluates to 0, independently of\n",
      "how many N-gram overlaps of lower order it contains.\n",
      "Consider using lower n-gram order or use SmoothingFunction()\n",
      "  warnings.warn(_msg)\n"
     ]
    },
    {
     "name": "stdout",
     "output_type": "stream",
     "text": [
      "dfARCOld-dfNVTOld    :  (22656, 22656, 640232, 622923, 28.25882768361582, 27.494835805084747, 0.39169027571282145)\n"
     ]
    },
    {
     "name": "stderr",
     "output_type": "stream",
     "text": [
      "c:\\Users\\pablo\\anaconda3\\envs\\torch\\Lib\\site-packages\\nltk\\translate\\bleu_score.py:552: UserWarning: \n",
      "The hypothesis contains 0 counts of 3-gram overlaps.\n",
      "Therefore the BLEU score evaluates to 0, independently of\n",
      "how many N-gram overlaps of lower order it contains.\n",
      "Consider using lower n-gram order or use SmoothingFunction()\n",
      "  warnings.warn(_msg)\n",
      "c:\\Users\\pablo\\anaconda3\\envs\\torch\\Lib\\site-packages\\nltk\\translate\\bleu_score.py:552: UserWarning: \n",
      "The hypothesis contains 0 counts of 4-gram overlaps.\n",
      "Therefore the BLEU score evaluates to 0, independently of\n",
      "how many N-gram overlaps of lower order it contains.\n",
      "Consider using lower n-gram order or use SmoothingFunction()\n",
      "  warnings.warn(_msg)\n",
      "c:\\Users\\pablo\\anaconda3\\envs\\torch\\Lib\\site-packages\\nltk\\translate\\bleu_score.py:552: UserWarning: \n",
      "The hypothesis contains 0 counts of 2-gram overlaps.\n",
      "Therefore the BLEU score evaluates to 0, independently of\n",
      "how many N-gram overlaps of lower order it contains.\n",
      "Consider using lower n-gram order or use SmoothingFunction()\n",
      "  warnings.warn(_msg)\n"
     ]
    },
    {
     "name": "stdout",
     "output_type": "stream",
     "text": [
      "dfARCOld-dfOLOld    :  (22021, 22021, 622124, 585555, 28.25139639435085, 26.59075428000545, 0.3406540869446259)\n"
     ]
    },
    {
     "name": "stderr",
     "output_type": "stream",
     "text": [
      "c:\\Users\\pablo\\anaconda3\\envs\\torch\\Lib\\site-packages\\nltk\\translate\\bleu_score.py:552: UserWarning: \n",
      "The hypothesis contains 0 counts of 4-gram overlaps.\n",
      "Therefore the BLEU score evaluates to 0, independently of\n",
      "how many N-gram overlaps of lower order it contains.\n",
      "Consider using lower n-gram order or use SmoothingFunction()\n",
      "  warnings.warn(_msg)\n",
      "c:\\Users\\pablo\\anaconda3\\envs\\torch\\Lib\\site-packages\\nltk\\translate\\bleu_score.py:552: UserWarning: \n",
      "The hypothesis contains 0 counts of 3-gram overlaps.\n",
      "Therefore the BLEU score evaluates to 0, independently of\n",
      "how many N-gram overlaps of lower order it contains.\n",
      "Consider using lower n-gram order or use SmoothingFunction()\n",
      "  warnings.warn(_msg)\n",
      "c:\\Users\\pablo\\anaconda3\\envs\\torch\\Lib\\site-packages\\nltk\\translate\\bleu_score.py:552: UserWarning: \n",
      "The hypothesis contains 0 counts of 2-gram overlaps.\n",
      "Therefore the BLEU score evaluates to 0, independently of\n",
      "how many N-gram overlaps of lower order it contains.\n",
      "Consider using lower n-gram order or use SmoothingFunction()\n",
      "  warnings.warn(_msg)\n"
     ]
    },
    {
     "name": "stdout",
     "output_type": "stream",
     "text": [
      "dfNVIPTOld-dfNVTOld    :  (22832, 22832, 616770, 624500, 27.013402242466714, 27.35196215837421, 0.5160804435738243)\n"
     ]
    },
    {
     "name": "stderr",
     "output_type": "stream",
     "text": [
      "c:\\Users\\pablo\\anaconda3\\envs\\torch\\Lib\\site-packages\\nltk\\translate\\bleu_score.py:552: UserWarning: \n",
      "The hypothesis contains 0 counts of 3-gram overlaps.\n",
      "Therefore the BLEU score evaluates to 0, independently of\n",
      "how many N-gram overlaps of lower order it contains.\n",
      "Consider using lower n-gram order or use SmoothingFunction()\n",
      "  warnings.warn(_msg)\n",
      "c:\\Users\\pablo\\anaconda3\\envs\\torch\\Lib\\site-packages\\nltk\\translate\\bleu_score.py:552: UserWarning: \n",
      "The hypothesis contains 0 counts of 4-gram overlaps.\n",
      "Therefore the BLEU score evaluates to 0, independently of\n",
      "how many N-gram overlaps of lower order it contains.\n",
      "Consider using lower n-gram order or use SmoothingFunction()\n",
      "  warnings.warn(_msg)\n",
      "c:\\Users\\pablo\\anaconda3\\envs\\torch\\Lib\\site-packages\\nltk\\translate\\bleu_score.py:552: UserWarning: \n",
      "The hypothesis contains 0 counts of 2-gram overlaps.\n",
      "Therefore the BLEU score evaluates to 0, independently of\n",
      "how many N-gram overlaps of lower order it contains.\n",
      "Consider using lower n-gram order or use SmoothingFunction()\n",
      "  warnings.warn(_msg)\n"
     ]
    },
    {
     "name": "stdout",
     "output_type": "stream",
     "text": [
      "dfNVIPTOld-dfOLOld    :  (23030, 23030, 611119, 597486, 26.535779418150238, 25.943812418584454, 0.3809825266000908)\n"
     ]
    },
    {
     "name": "stderr",
     "output_type": "stream",
     "text": [
      "c:\\Users\\pablo\\anaconda3\\envs\\torch\\Lib\\site-packages\\nltk\\translate\\bleu_score.py:552: UserWarning: \n",
      "The hypothesis contains 0 counts of 3-gram overlaps.\n",
      "Therefore the BLEU score evaluates to 0, independently of\n",
      "how many N-gram overlaps of lower order it contains.\n",
      "Consider using lower n-gram order or use SmoothingFunction()\n",
      "  warnings.warn(_msg)\n",
      "c:\\Users\\pablo\\anaconda3\\envs\\torch\\Lib\\site-packages\\nltk\\translate\\bleu_score.py:552: UserWarning: \n",
      "The hypothesis contains 0 counts of 4-gram overlaps.\n",
      "Therefore the BLEU score evaluates to 0, independently of\n",
      "how many N-gram overlaps of lower order it contains.\n",
      "Consider using lower n-gram order or use SmoothingFunction()\n",
      "  warnings.warn(_msg)\n",
      "c:\\Users\\pablo\\anaconda3\\envs\\torch\\Lib\\site-packages\\nltk\\translate\\bleu_score.py:552: UserWarning: \n",
      "The hypothesis contains 0 counts of 2-gram overlaps.\n",
      "Therefore the BLEU score evaluates to 0, independently of\n",
      "how many N-gram overlaps of lower order it contains.\n",
      "Consider using lower n-gram order or use SmoothingFunction()\n",
      "  warnings.warn(_msg)\n"
     ]
    },
    {
     "name": "stdout",
     "output_type": "stream",
     "text": [
      "dfNVTOld-dfOLOld    :  (22310, 22310, 609238, 588536, 27.30784401613626, 26.37991931869117, 0.3818572556545304)\n"
     ]
    }
   ],
   "source": [
    "import numpy as np\n",
    "\n",
    "def getTriOverlap(source, target):\n",
    "    try:\n",
    "        return source, target\n",
    "    except:\n",
    "        return 0.0\n",
    "    \n",
    "\n",
    "def getStats(dfA, dfB):\n",
    "    df = dfA.merge(dfB, on=[\"livro\", \"capitulo\", \"versiculo\"])\n",
    "\n",
    "    df[\"sourceLen\"] = df[\"texto_x\"].apply(lambda x: getSizeSentece(x))\n",
    "    df[\"targetLen\"] = df[\"texto_y\"].apply(lambda x: getSizeSentece(x))\n",
    "    \n",
    "    df[\"BLEU\"] = df.apply(lambda x: getBleu(x[\"texto_x\"], x[\"texto_y\"]), axis=1)\n",
    "\n",
    "    return df.shape[0], df.shape[0], df[\"sourceLen\"].sum(), df[\"targetLen\"].sum(), df[\"sourceLen\"].mean(), df[\"targetLen\"].mean(), df[\"BLEU\"].mean()\n",
    "#Matriz do novo testamento\n",
    "\n",
    "def getSizeSentece(text):\n",
    "    try:\n",
    "        return len(text.split(\" \"))\n",
    "    except:\n",
    "        return 0\n",
    "    \n",
    "def getBleu(source, target):\n",
    "    try:\n",
    "        return sentence_bleu([source.split(\" \")], target.split(\" \"), weights=(1, 0, 0, 0))\n",
    "    except:\n",
    "        return 0.0\n",
    "\n",
    "print(\"Novo testamento: \")\n",
    "print(\"NTLNew-VFLNew       : \", getStats(dfNTLNew, dfVFLNew))\n",
    "print(\"NTLNew-dfNVIPTNew   : \", getStats(dfNTLNew, dfNVIPTNew))\n",
    "print(\"NTLNew-dfNVTNew     : \", getStats(dfNTLNew, dfNVTNew))\n",
    "print(\"NTLNew-dfOLNew      : \", getStats(dfNTLNew, dfOLNew))\n",
    "print(\"dfARCNew-dfVFLNew   : \", getStats(dfARCNew, dfVFLNew))\n",
    "print(\"dfARCNew-dfNVIPTNew : \", getStats(dfARCNew, dfNVIPTNew))\n",
    "print(\"dfARCNew-dfNVTNew   : \", getStats(dfARCNew, dfNVTNew))\n",
    "print(\"dfARCNew-dfOLNew    : \", getStats(dfARCNew, dfOLNew))\n",
    "print(\"dfVFLNew-ARCNew     : \", getStats(dfVFLNew, dfNVIPTNew))\n",
    "print(\"dfVFLNew-ARCNew     : \", getStats(dfVFLNew, dfNVTNew))\n",
    "print(\"dfVFLNew-ARCNew     : \", getStats(dfVFLNew, dfOLNew))\n",
    "print(\"dfNVIPTNew-dfNVTNew : \", getStats(dfNVIPTNew, dfNVTNew))\n",
    "print(\"dfNVIPTNew-dfOLNew  : \", getStats(dfNVIPTNew, dfOLNew))\n",
    "print(\"dfNVTNew-dfOLNew    : \", getStats(dfNVTNew, dfOLNew))\n",
    "print(\"Velho testamento: \")\n",
    "print(\"dfNTLOld-dfARCOld    : \", getStats(dfNTLOld, dfARCOld))\n",
    "print(\"dfNTLOld-dfNVIPTOld    : \", getStats(dfNTLOld, dfNVIPTOld))\n",
    "print(\"dfNTLOld-dfNVTOld    : \", getStats(dfNTLOld, dfNVTOld))\n",
    "print(\"dfNTLOld-dfOLOld    : \", getStats(dfNTLOld, dfOLOld))\n",
    "print(\"dfARCOld-dfNVIPTOld    : \", getStats(dfARCOld, dfNVIPTOld))\n",
    "print(\"dfARCOld-dfNVTOld    : \", getStats(dfARCOld, dfNVTOld))\n",
    "print(\"dfARCOld-dfOLOld    : \", getStats(dfARCOld, dfOLOld))\n",
    "print(\"dfNVIPTOld-dfNVTOld    : \", getStats(dfNVIPTOld, dfNVTOld))\n",
    "print(\"dfNVIPTOld-dfOLOld    : \", getStats(dfNVIPTOld, dfOLOld))\n",
    "print(\"dfNVTOld-dfOLOld    : \", getStats(dfNVTOld, dfOLOld))\n",
    "\n",
    "#TODO\n",
    "\n",
    "\n",
    "# métricas de similaridade do córpus final (sacre-BLEU)\n",
    "\n"
   ]
  },
  {
   "cell_type": "code",
   "execution_count": 48,
   "metadata": {},
   "outputs": [
    {
     "name": "stderr",
     "output_type": "stream",
     "text": [
      "c:\\Users\\pablo\\anaconda3\\envs\\torch\\Lib\\site-packages\\nltk\\translate\\bleu_score.py:552: UserWarning: \n",
      "The hypothesis contains 0 counts of 4-gram overlaps.\n",
      "Therefore the BLEU score evaluates to 0, independently of\n",
      "how many N-gram overlaps of lower order it contains.\n",
      "Consider using lower n-gram order or use SmoothingFunction()\n",
      "  warnings.warn(_msg)\n",
      "c:\\Users\\pablo\\anaconda3\\envs\\torch\\Lib\\site-packages\\nltk\\translate\\bleu_score.py:552: UserWarning: \n",
      "The hypothesis contains 0 counts of 3-gram overlaps.\n",
      "Therefore the BLEU score evaluates to 0, independently of\n",
      "how many N-gram overlaps of lower order it contains.\n",
      "Consider using lower n-gram order or use SmoothingFunction()\n",
      "  warnings.warn(_msg)\n",
      "c:\\Users\\pablo\\anaconda3\\envs\\torch\\Lib\\site-packages\\nltk\\translate\\bleu_score.py:552: UserWarning: \n",
      "The hypothesis contains 0 counts of 2-gram overlaps.\n",
      "Therefore the BLEU score evaluates to 0, independently of\n",
      "how many N-gram overlaps of lower order it contains.\n",
      "Consider using lower n-gram order or use SmoothingFunction()\n",
      "  warnings.warn(_msg)\n"
     ]
    },
    {
     "name": "stdout",
     "output_type": "stream",
     "text": [
      "NTLNew-VFLNew       :  (7616, 7616, 216028, 228171, 28.36502100840336, 29.959427521008404, 0.5344695215763303)\n"
     ]
    }
   ],
   "source": [
    "\n"
   ]
  },
  {
   "cell_type": "code",
   "execution_count": null,
   "metadata": {},
   "outputs": [],
   "source": [
    "\n",
    "\n"
   ]
  }
 ],
 "metadata": {
  "kernelspec": {
   "display_name": "torch",
   "language": "python",
   "name": "python3"
  },
  "language_info": {
   "codemirror_mode": {
    "name": "ipython",
    "version": 3
   },
   "file_extension": ".py",
   "mimetype": "text/x-python",
   "name": "python",
   "nbconvert_exporter": "python",
   "pygments_lexer": "ipython3",
   "version": "3.11.4"
  },
  "orig_nbformat": 4
 },
 "nbformat": 4,
 "nbformat_minor": 2
}
