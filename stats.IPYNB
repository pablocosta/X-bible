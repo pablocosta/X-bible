{
 "cells": [
  {
   "cell_type": "code",
   "execution_count": 1,
   "metadata": {},
   "outputs": [],
   "source": [
    "import pandas as pd\n",
    "\n",
    "#cerrega todo os arquivos\n",
    "dfNTLNew = pd.read_parquet(\"./data/NTLHNew.parquet\")\n",
    "dfNTLOld = pd.read_parquet(\"./data/NTLHOld.parquet\")\n",
    "\n",
    "dfARCNew = pd.read_parquet(\"./data/ARCNew.parquet\")\n",
    "dfARCOld = pd.read_parquet(\"./data/ARCOld.parquet\")\n",
    "\n",
    "dfNVIPTNew = pd.read_parquet(\"./data/NVIPTNew.parquet\")\n",
    "dfNVIPTOld = pd.read_parquet(\"./data/NVIPTOld.parquet\")\n",
    "\n",
    "dfNVTNew = pd.read_parquet(\"./data/NVTNew.parquet\")\n",
    "dfNVTOld = pd.read_parquet(\"./data/NVTOld.parquet\")\n",
    "\n",
    "dfOLNew = pd.read_parquet(\"./data/OLNew.parquet\")\n",
    "dfOLOld = pd.read_parquet(\"./data/OLOld.parquet\")\n",
    "\n",
    "dfVFLNew = pd.read_parquet(\"./data/VFLNew.parquet\")\n",
    "\n"
   ]
  },
  {
   "cell_type": "code",
   "execution_count": 3,
   "metadata": {},
   "outputs": [
    {
     "name": "stdout",
     "output_type": "stream",
     "text": [
      "set()\n",
      "set()\n",
      "set()\n",
      "set()\n",
      "set()\n"
     ]
    }
   ],
   "source": []
  },
  {
   "cell_type": "code",
   "execution_count": 101,
   "metadata": {},
   "outputs": [
    {
     "name": "stdout",
     "output_type": "stream",
     "text": [
      "set()\n",
      "set()\n",
      "set()\n",
      "set()\n",
      "set()\n"
     ]
    }
   ],
   "source": [
    "#normalizando os nomes do novo testamento\n",
    "\n",
    "print(set(dfNTLNew[\"livro\"]) - set(dfARCNew[\"livro\"]))\n",
    "print(set(dfNTLNew[\"livro\"]) - set(dfVFLNew[\"livro\"]))\n",
    "print(set(dfNTLNew[\"livro\"]) - set(dfNVIPTNew[\"livro\"]))\n",
    "print(set(dfNTLNew[\"livro\"]) - set(dfNVTNew[\"livro\"]))\n",
    "print(set(dfNTLNew[\"livro\"]) - set(dfOLNew[\"livro\"]))\n",
    "\n",
    "dfNVIPTNew[\"livro\"] = dfNVIPTNew[\"livro\"].replace(\"Filemón\", \"Filemom\")\n",
    "dfNVTNew[\"livro\"]   = dfNVTNew[\"livro\"].replace(\"Filemón\", \"Filemom\")\n",
    "dfOLNew[\"livro\"]    = dfOLNew[\"livro\"].replace(\"Filemón\", \"Filemom\")\n",
    "\n",
    "\n"
   ]
  },
  {
   "cell_type": "code",
   "execution_count": 4,
   "metadata": {},
   "outputs": [
    {
     "name": "stdout",
     "output_type": "stream",
     "text": [
      "[   0 8603 8406 8603 8445 8404]\n"
     ]
    }
   ],
   "source": [
    "import numpy as np\n",
    "#Matriz do novo testamento\n",
    "\n",
    "#         dfNTLNew   dfARCNew   dfVFLNew  dfNVIPTNew   dfNVTNew  dfOLNew\n",
    "#dfNTLNew  \n",
    "\n",
    "\n",
    "mNovo = np.arange((6))\n",
    "mNovo[1] = dfNTLNew.merge(dfARCNew, on=[\"livro\", \"capitulo\", \"versiculo\"]).shape[0]\n",
    "mNovo[2] = dfNTLNew.merge(dfVFLNew, on=[\"livro\", \"capitulo\", \"versiculo\"]).shape[0]\n",
    "mNovo[3] = dfNTLNew.merge(dfNVIPTNew, on=[\"livro\", \"capitulo\", \"versiculo\"]).shape[0]\n",
    "mNovo[4] = dfNTLNew.merge(dfNVTNew, on=[\"livro\", \"capitulo\", \"versiculo\"]).shape[0]\n",
    "mNovo[5] = dfNTLNew.merge(dfOLNew, on=[\"livro\", \"capitulo\", \"versiculo\"]).shape[0]\n",
    "print(mNovo)"
   ]
  },
  {
   "cell_type": "code",
   "execution_count": 99,
   "metadata": {},
   "outputs": [
    {
     "name": "stdout",
     "output_type": "stream",
     "text": [
      "set()\n",
      "set()\n",
      "set()\n",
      "set()\n"
     ]
    }
   ],
   "source": [
    "dictOldBooksNTLH = {\"Gênesis\": 50,\n",
    "\"Êxodo\": 40,\n",
    "\"Levítico\": 27,\n",
    "\"Números\": 36,\n",
    "\"Deuteronômio\": 34,\n",
    "\"Josué\": 24,\n",
    "\"Juízes\": 21,\n",
    "\"Rute\": 4,\n",
    "\"1%20Samuel\": 31,\n",
    "\"2%20Samuel\": 24,\n",
    "\"1%20Reis\": 22,\n",
    "\"2%20Reis\": 25,\n",
    "\"1%20Crônicas\": 29,\n",
    "\"2%20Crônicas\": 36,\n",
    "\"Esdras\": 10,\n",
    "\"Neemias\": 13,\n",
    "\"Ester\": 10,\n",
    "\"Jó\": 42,\n",
    "\"Salmos\": 150,\n",
    "\"Provérbios\": 31,\n",
    "\"Eclesiastes\": 12,\n",
    "\"Cântico%20dos%20Cânticos\": 8,\n",
    "\"Isaías\": 66,\n",
    "\"Jeremias\": 52,\n",
    "\"Lamentações%20de%20Jeremias\": 5,\n",
    "\"Ezequiel\": 48,\n",
    "\"Daniel\": 12,\n",
    "\"Oseias\": 14,\n",
    "\"Joel\": 3,\n",
    "\"Amós\": 9,\n",
    "\"Obadias\": 1,\n",
    "\"Jonas\": 4,\n",
    "\"Miqueias\": 7,\n",
    "\"Naum\": 3,\n",
    "\"Habacuque\": 3,\n",
    "\"Sofonias\": 3,\n",
    "\"Ageu\": 2,\n",
    "\"Zacarias\":14,\n",
    "\"Malaquias\": 4}\n",
    "\n",
    "dfARCOld[\"livro\"] = dfARCOld[\"livro\"].replace(\"Cantares\", \"Cântico%20dos%20Cânticos\")\n",
    "dfARCOld[\"livro\"] = dfARCOld[\"livro\"].replace(\"Lamentações\", \"Lamentações%20de%20Jeremias\")\n",
    "\n",
    "dfNVIPTOld[\"livro\"] = dfNVIPTOld[\"livro\"].replace(\"Miquéias\", \"Miqueias\")\n",
    "dfNVIPTOld[\"livro\"] = dfNVIPTOld[\"livro\"].replace(\"Cantares%20de%20Salomâo\", \"Cântico%20dos%20Cânticos\")\n",
    "\n",
    "dfNVTOld[\"livro\"] = dfNVTOld[\"livro\"].replace(\"Miquéias\", \"Miqueias\")\n",
    "dfNVTOld[\"livro\"] = dfNVTOld[\"livro\"].replace(\"Cantares%20de%20Salomâo\", \"Cântico%20dos%20Cânticos\")\n",
    "\n",
    "dfOLOld[\"livro\"] = dfOLOld[\"livro\"].replace(\"Miquéias\", \"Miqueias\")\n",
    "dfOLOld[\"livro\"] = dfOLOld[\"livro\"].replace(\"Cantares%20de%20Salomâo\", \"Cântico%20dos%20Cânticos\")\n",
    "\n",
    "\n",
    "print(set(dfNTLOld[\"livro\"]) - set(dfARCOld[\"livro\"]))\n",
    "print(set(dfNTLOld[\"livro\"]) - set(dfNVIPTOld[\"livro\"]))\n",
    "print(set(dfNTLOld[\"livro\"]) - set(dfNVTOld[\"livro\"]))\n",
    "print(set(dfNTLOld[\"livro\"]) - set(dfOLOld[\"livro\"]))\n",
    "\n",
    "\n",
    "\n"
   ]
  },
  {
   "cell_type": "code",
   "execution_count": 5,
   "metadata": {},
   "outputs": [
    {
     "name": "stdout",
     "output_type": "stream",
     "text": [
      "[    0 24963 24960 24404 24163     5]\n"
     ]
    }
   ],
   "source": [
    "#Matriz do velho testamento\n",
    "\n",
    "#         dfNTLOld   dfARCOld   dfVFLOld  dfNVIPTOld   dfNVTOld  dfOLOld\n",
    "#dfNTLOld  \n",
    "\n",
    "\n",
    "mOld = np.arange((6))\n",
    "mOld[1] = dfNTLOld.merge(dfARCOld, on=[\"livro\", \"capitulo\", \"versiculo\"]).shape[0]\n",
    "mOld[2] = dfNTLOld.merge(dfNVIPTOld, on=[\"livro\", \"capitulo\", \"versiculo\"]).shape[0]\n",
    "mOld[3] = dfNTLOld.merge(dfNVTOld, on=[\"livro\", \"capitulo\", \"versiculo\"]).shape[0]\n",
    "mOld[4] = dfNTLOld.merge(dfOLOld, on=[\"livro\", \"capitulo\", \"versiculo\"]).shape[0]\n",
    "print(mOld)\n"
   ]
  },
  {
   "cell_type": "code",
   "execution_count": 103,
   "metadata": {},
   "outputs": [],
   "source": [
    "dfNTLNew.to_parquet(\"./data/NTLHNew.parquet\")\n",
    "dfNTLOld.to_parquet(\"./data/NTLHOld.parquet\")\n",
    "\n",
    "dfARCNew.to_parquet(\"./data/ARCNew.parquet\")\n",
    "dfARCOld.to_parquet(\"./data/ARCOld.parquet\")\n",
    "\n",
    "dfNVIPTNew.to_parquet(\"./data/NVIPTNew.parquet\")\n",
    "dfNVIPTOld.to_parquet(\"./data/NVIPTOld.parquet\")\n",
    "\n",
    "dfNVTNew.to_parquet(\"./data/NVTNew.parquet\")\n",
    "dfNVTOld.to_parquet(\"./data/NVTOld.parquet\")\n",
    "\n",
    "dfOLNew.to_parquet(\"./data/OLNew.parquet\")\n",
    "dfOLOld.to_parquet(\"./data/OLOld.parquet\")\n",
    "\n",
    "dfVFLNew.to_parquet(\"./data/VFLNew.parquet\")"
   ]
  },
  {
   "cell_type": "code",
   "execution_count": null,
   "metadata": {},
   "outputs": [],
   "source": [
    "#TODO \n",
    "#1 sampling de 10 pares de cada join\n",
    "#2 estatisticas de cada join (tamanho médio das sentenças, nro tokens total) - antes e depois do join\n",
    "# métricas de similaridade do córpus final (sacre-BLEU, Bert-score, sobreposição de tri-gramas)"
   ]
  }
 ],
 "metadata": {
  "kernelspec": {
   "display_name": "torch",
   "language": "python",
   "name": "python3"
  },
  "language_info": {
   "codemirror_mode": {
    "name": "ipython",
    "version": 3
   },
   "file_extension": ".py",
   "mimetype": "text/x-python",
   "name": "python",
   "nbconvert_exporter": "python",
   "pygments_lexer": "ipython3",
   "version": "3.11.4"
  },
  "orig_nbformat": 4
 },
 "nbformat": 4,
 "nbformat_minor": 2
}
