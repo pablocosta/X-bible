{
 "cells": [
  {
   "cell_type": "code",
   "execution_count": 1,
   "metadata": {},
   "outputs": [],
   "source": [
    "import pandas as pd\n",
    "import os\n",
    "#cerrega todo os arquivos\n",
    "dfsNew = []\n",
    "dfsOld = []\n",
    "\n",
    "for arq in os.listdir(\"./data/DE/\"):\n",
    "    if arq.find(\"New\") > 0:\n",
    "        dfsNew.append(pd.read_csv(\"./data/DE/\"+arq, sep=\"\\t\"))\n",
    "    elif arq.find(\"Old\") > 0:\n",
    "        dfsOld.append(pd.read_csv(\"./data/DE/\"+arq, sep=\"\\t\"))\n"
   ]
  },
  {
   "cell_type": "code",
   "execution_count": 2,
   "metadata": {},
   "outputs": [],
   "source": [
    "from nltk import ngrams\n",
    "from sacremoses import MosesTokenizer\n",
    "\n",
    "def tokenize(text, lang, nGram=3):\n",
    "    entok = MosesTokenizer(lang=lang)\n",
    "    text = entok.tokenize(text, escape=False)\n",
    "    grams = []\n",
    "    for i in range(1, nGram):\n",
    "        i_grams = [\n",
    "            \" \".join(gram)\n",
    "            for gram in ngrams(text, i)\n",
    "        ]\n",
    "        grams.extend(i_grams)\n",
    "        \n",
    "    return grams\n",
    "\n",
    "def getNgramOverlap(hypothesys, references, nGram, lang):\n",
    "\n",
    "  overlaps = []\n",
    "  for h, r in zip([hypothesys], [references]):\n",
    "    if (h == \"\") or (r == \"\"):\n",
    "      overlaps.append(1.0)\n",
    "      continue\n",
    "    a = tokenize(h, lang, nGram)\n",
    "    b = tokenize(r, lang, nGram)\n",
    "\n",
    "    if len(a) >= len(b) and len(a) > 0:\n",
    "      overlaps.append(len(set(a) & set(b))/len(a))\n",
    "    elif len(b) >= len(a) and len(b) > 0:\n",
    "      overlaps.append(len(set(a) & set(b))/len(b))\n",
    "    elif len(a) == 0 or len(b) == 0:\n",
    "      overlaps.append(0)\n",
    "\n",
    "  return overlaps[0]\n",
    "\n",
    "import numpy as np\n",
    "\n",
    "def getStats(dfA, dfB, lang):\n",
    "    df = dfA.merge(dfB, on=[\"livro\", \"capitulo\", \"versiculo\"])\n",
    "\n",
    "    df[\"sourceLen\"] = df[\"texto_x\"].apply(lambda x: getSizeSentece(x))\n",
    "    df[\"targetLen\"] = df[\"texto_y\"].apply(lambda x: getSizeSentece(x))\n",
    "    \n",
    "    df[\"overlap\"] = df.apply(lambda x: getNgramOverlap(x[\"texto_x\"], x[\"texto_y\"], 3, lang), axis=1)\n",
    "\n",
    "    return df\n",
    "#Matriz do novo testamento\n",
    "\n",
    "def getSizeSentece(text):\n",
    "    try:\n",
    "        return len(text.split(\" \"))\n",
    "    except:\n",
    "        return 0\n",
    "    \n"
   ]
  },
  {
   "cell_type": "code",
   "execution_count": 3,
   "metadata": {},
   "outputs": [
    {
     "name": "stdout",
     "output_type": "stream",
     "text": [
      "Novo testamento: \n",
      "set()\n",
      "set()\n",
      "set()\n"
     ]
    }
   ],
   "source": [
    "print(\"Novo testamento: \")\n",
    "import copy\n",
    "concat_df_new = []\n",
    "new = copy.deepcopy(dfsNew)\n",
    "for dfA in new:\n",
    "    new = new[1:]\n",
    "    for dfB in new:\n",
    "             \n",
    "        print(set(dfA[\"livro\"]) - set(dfB[\"livro\"]))\n",
    "        concat_df_new.append(getStats(dfA, dfB, \"de\"))"
   ]
  },
  {
   "cell_type": "code",
   "execution_count": 4,
   "metadata": {},
   "outputs": [
    {
     "data": {
      "text/plain": [
       "3"
      ]
     },
     "execution_count": 4,
     "metadata": {},
     "output_type": "execute_result"
    }
   ],
   "source": [
    "len(dfsNew)"
   ]
  },
  {
   "cell_type": "code",
   "execution_count": 5,
   "metadata": {},
   "outputs": [
    {
     "name": "stdout",
     "output_type": "stream",
     "text": [
      "tamanho sem cortes:  (23177, 10)\n"
     ]
    }
   ],
   "source": [
    "dfConcat_novo = pd.concat(concat_df_new, ignore_index=False)\n",
    "print(\"tamanho sem cortes: \", dfConcat_novo.shape)\n",
    "dfConcat_novo[\"VERSAO\"] = \"NOVO\""
   ]
  },
  {
   "cell_type": "code",
   "execution_count": 6,
   "metadata": {},
   "outputs": [
    {
     "name": "stdout",
     "output_type": "stream",
     "text": [
      "Velho testamento: \n",
      "set()\n",
      "set()\n",
      "set()\n"
     ]
    }
   ],
   "source": [
    "print(\"Velho testamento: \")\n",
    "import copy\n",
    "concat_df_old = []\n",
    "old = copy.deepcopy(dfsOld)\n",
    "for dfA in old:\n",
    "    old = old[1:]\n",
    "    for dfB in old:\n",
    "             \n",
    "        print(set(dfA[\"livro\"]) - set(dfB[\"livro\"]))\n",
    "        concat_df_old.append(getStats(dfA, dfB, \"de\"))"
   ]
  },
  {
   "cell_type": "code",
   "execution_count": 7,
   "metadata": {},
   "outputs": [
    {
     "data": {
      "text/plain": [
       "3"
      ]
     },
     "execution_count": 7,
     "metadata": {},
     "output_type": "execute_result"
    }
   ],
   "source": [
    "len(dfsOld)"
   ]
  },
  {
   "cell_type": "code",
   "execution_count": 8,
   "metadata": {},
   "outputs": [
    {
     "name": "stdout",
     "output_type": "stream",
     "text": [
      "tamanho sem cortes:  (66388, 10)\n"
     ]
    }
   ],
   "source": [
    "dfConcat_old = pd.concat(concat_df_old, ignore_index=False)\n",
    "print(\"tamanho sem cortes: \", dfConcat_old.shape)\n",
    "dfConcat_old[\"VERSAO\"] = \"VELHO\""
   ]
  },
  {
   "cell_type": "code",
   "execution_count": 9,
   "metadata": {},
   "outputs": [
    {
     "name": "stdout",
     "output_type": "stream",
     "text": [
      "28.787160163010103\n",
      "12.948651817116062\n",
      "0.09618886383430006\n"
     ]
    }
   ],
   "source": [
    "df_geral = pd.concat([dfConcat_old,dfConcat_novo])\n",
    "\n",
    "print(df_geral[\"sourceLen\"].mean())\n",
    "print(df_geral[\"targetLen\"].mean())\n",
    "print(df_geral[\"overlap\"].mean())"
   ]
  },
  {
   "cell_type": "code",
   "execution_count": 10,
   "metadata": {},
   "outputs": [
    {
     "data": {
      "text/html": [
       "<div>\n",
       "<style scoped>\n",
       "    .dataframe tbody tr th:only-of-type {\n",
       "        vertical-align: middle;\n",
       "    }\n",
       "\n",
       "    .dataframe tbody tr th {\n",
       "        vertical-align: top;\n",
       "    }\n",
       "\n",
       "    .dataframe thead th {\n",
       "        text-align: right;\n",
       "    }\n",
       "</style>\n",
       "<table border=\"1\" class=\"dataframe\">\n",
       "  <thead>\n",
       "    <tr style=\"text-align: right;\">\n",
       "      <th></th>\n",
       "      <th>estilo_x</th>\n",
       "      <th>livro</th>\n",
       "      <th>capitulo</th>\n",
       "      <th>versiculo</th>\n",
       "      <th>texto_x</th>\n",
       "      <th>estilo_y</th>\n",
       "      <th>texto_y</th>\n",
       "      <th>sourceLen</th>\n",
       "      <th>targetLen</th>\n",
       "      <th>overlap</th>\n",
       "      <th>VERSAO</th>\n",
       "    </tr>\n",
       "  </thead>\n",
       "  <tbody>\n",
       "    <tr>\n",
       "      <th>0</th>\n",
       "      <td>HOF</td>\n",
       "      <td>1%20Mose</td>\n",
       "      <td>1</td>\n",
       "      <td>1</td>\n",
       "      <td>Am Anfang schuf Gott Himmel und Erde .</td>\n",
       "      <td>LUTH1545</td>\n",
       "      <td>Am Anfang schuf Gott Himmel und Erde .</td>\n",
       "      <td>8</td>\n",
       "      <td>8</td>\n",
       "      <td>1.000000</td>\n",
       "      <td>VELHO</td>\n",
       "    </tr>\n",
       "    <tr>\n",
       "      <th>1</th>\n",
       "      <td>HOF</td>\n",
       "      <td>1%20Mose</td>\n",
       "      <td>1</td>\n",
       "      <td>11</td>\n",
       "      <td>Und Gott sprach : » Auf der Erde soll es grüne...</td>\n",
       "      <td>LUTH1545</td>\n",
       "      <td>Und Gott sprach : Es lasse die Erde aufgehen G...</td>\n",
       "      <td>34</td>\n",
       "      <td>45</td>\n",
       "      <td>0.146067</td>\n",
       "      <td>VELHO</td>\n",
       "    </tr>\n",
       "    <tr>\n",
       "      <th>2</th>\n",
       "      <td>HOF</td>\n",
       "      <td>1%20Mose</td>\n",
       "      <td>1</td>\n",
       "      <td>2</td>\n",
       "      <td>Noch war die Erde leer und ungestaltet , von t...</td>\n",
       "      <td>LUTH1545</td>\n",
       "      <td>Und die Erde war wüst und leer , und es war fi...</td>\n",
       "      <td>25</td>\n",
       "      <td>25</td>\n",
       "      <td>0.346939</td>\n",
       "      <td>VELHO</td>\n",
       "    </tr>\n",
       "    <tr>\n",
       "      <th>3</th>\n",
       "      <td>HOF</td>\n",
       "      <td>1%20Mose</td>\n",
       "      <td>1</td>\n",
       "      <td>3</td>\n",
       "      <td>Da sprach Gott : » Licht soll entstehen ! « , ...</td>\n",
       "      <td>LUTH1545</td>\n",
       "      <td>Und Gott sprach : Es werde Licht ! und es ward...</td>\n",
       "      <td>17</td>\n",
       "      <td>13</td>\n",
       "      <td>0.212121</td>\n",
       "      <td>VELHO</td>\n",
       "    </tr>\n",
       "    <tr>\n",
       "      <th>4</th>\n",
       "      <td>HOF</td>\n",
       "      <td>1%20Mose</td>\n",
       "      <td>1</td>\n",
       "      <td>4</td>\n",
       "      <td>Gott sah , dass es gut war . Er trennte das Li...</td>\n",
       "      <td>LUTH1545</td>\n",
       "      <td>Und Gott sah , daß das Licht gut war . Da schi...</td>\n",
       "      <td>15</td>\n",
       "      <td>18</td>\n",
       "      <td>0.485714</td>\n",
       "      <td>VELHO</td>\n",
       "    </tr>\n",
       "    <tr>\n",
       "      <th>...</th>\n",
       "      <td>...</td>\n",
       "      <td>...</td>\n",
       "      <td>...</td>\n",
       "      <td>...</td>\n",
       "      <td>...</td>\n",
       "      <td>...</td>\n",
       "      <td>...</td>\n",
       "      <td>...</td>\n",
       "      <td>...</td>\n",
       "      <td>...</td>\n",
       "      <td>...</td>\n",
       "    </tr>\n",
       "    <tr>\n",
       "      <th>7733</th>\n",
       "      <td>LUTH1545</td>\n",
       "      <td>Offenbarung</td>\n",
       "      <td>22</td>\n",
       "      <td>17</td>\n",
       "      <td>Und der Geist und die Braut sprechen : Komm ! ...</td>\n",
       "      <td>NGU-DE</td>\n",
       "      <td>Od Und wer dieser Einladung folgt . Nach diese...</td>\n",
       "      <td>40</td>\n",
       "      <td>33</td>\n",
       "      <td>0.088608</td>\n",
       "      <td>NOVO</td>\n",
       "    </tr>\n",
       "    <tr>\n",
       "      <th>7734</th>\n",
       "      <td>LUTH1545</td>\n",
       "      <td>Offenbarung</td>\n",
       "      <td>22</td>\n",
       "      <td>18</td>\n",
       "      <td>Ich bezeuge allen , die da hören die Worte der...</td>\n",
       "      <td>NGU-DE</td>\n",
       "      <td>W bezeuge . - Offenbarung</td>\n",
       "      <td>35</td>\n",
       "      <td>5</td>\n",
       "      <td>0.028986</td>\n",
       "      <td>NOVO</td>\n",
       "    </tr>\n",
       "    <tr>\n",
       "      <th>7735</th>\n",
       "      <td>LUTH1545</td>\n",
       "      <td>Offenbarung</td>\n",
       "      <td>22</td>\n",
       "      <td>19</td>\n",
       "      <td>Und so jemand davontut von den Worten des Buch...</td>\n",
       "      <td>NGU-DE</td>\n",
       "      <td>W dem wird Gott seinen Teil am Baum des Lebens...</td>\n",
       "      <td>35</td>\n",
       "      <td>27</td>\n",
       "      <td>0.391304</td>\n",
       "      <td>NOVO</td>\n",
       "    </tr>\n",
       "    <tr>\n",
       "      <th>7736</th>\n",
       "      <td>LUTH1545</td>\n",
       "      <td>Offenbarung</td>\n",
       "      <td>22</td>\n",
       "      <td>20</td>\n",
       "      <td>Es spricht , der solches bezeugt : Ja , ich ko...</td>\n",
       "      <td>NGU-DE</td>\n",
       "      <td>Od Der , der uns als Gottes Zeuge alle diese D...</td>\n",
       "      <td>21</td>\n",
       "      <td>25</td>\n",
       "      <td>0.102041</td>\n",
       "      <td>NOVO</td>\n",
       "    </tr>\n",
       "    <tr>\n",
       "      <th>7737</th>\n",
       "      <td>LUTH1545</td>\n",
       "      <td>Offenbarung</td>\n",
       "      <td>22</td>\n",
       "      <td>21</td>\n",
       "      <td>Die Gnade unsers HERRN Jesu Christi sei mit eu...</td>\n",
       "      <td>NGU-DE</td>\n",
       "      <td>AL (</td>\n",
       "      <td>13</td>\n",
       "      <td>2</td>\n",
       "      <td>0.000000</td>\n",
       "      <td>NOVO</td>\n",
       "    </tr>\n",
       "  </tbody>\n",
       "</table>\n",
       "<p>89565 rows × 11 columns</p>\n",
       "</div>"
      ],
      "text/plain": [
       "      estilo_x        livro  capitulo  versiculo  \\\n",
       "0          HOF     1%20Mose         1          1   \n",
       "1          HOF     1%20Mose         1         11   \n",
       "2          HOF     1%20Mose         1          2   \n",
       "3          HOF     1%20Mose         1          3   \n",
       "4          HOF     1%20Mose         1          4   \n",
       "...        ...          ...       ...        ...   \n",
       "7733  LUTH1545  Offenbarung        22         17   \n",
       "7734  LUTH1545  Offenbarung        22         18   \n",
       "7735  LUTH1545  Offenbarung        22         19   \n",
       "7736  LUTH1545  Offenbarung        22         20   \n",
       "7737  LUTH1545  Offenbarung        22         21   \n",
       "\n",
       "                                                texto_x  estilo_y  \\\n",
       "0                Am Anfang schuf Gott Himmel und Erde .  LUTH1545   \n",
       "1     Und Gott sprach : » Auf der Erde soll es grüne...  LUTH1545   \n",
       "2     Noch war die Erde leer und ungestaltet , von t...  LUTH1545   \n",
       "3     Da sprach Gott : » Licht soll entstehen ! « , ...  LUTH1545   \n",
       "4     Gott sah , dass es gut war . Er trennte das Li...  LUTH1545   \n",
       "...                                                 ...       ...   \n",
       "7733  Und der Geist und die Braut sprechen : Komm ! ...    NGU-DE   \n",
       "7734  Ich bezeuge allen , die da hören die Worte der...    NGU-DE   \n",
       "7735  Und so jemand davontut von den Worten des Buch...    NGU-DE   \n",
       "7736  Es spricht , der solches bezeugt : Ja , ich ko...    NGU-DE   \n",
       "7737  Die Gnade unsers HERRN Jesu Christi sei mit eu...    NGU-DE   \n",
       "\n",
       "                                                texto_y  sourceLen  targetLen  \\\n",
       "0                Am Anfang schuf Gott Himmel und Erde .          8          8   \n",
       "1     Und Gott sprach : Es lasse die Erde aufgehen G...         34         45   \n",
       "2     Und die Erde war wüst und leer , und es war fi...         25         25   \n",
       "3     Und Gott sprach : Es werde Licht ! und es ward...         17         13   \n",
       "4     Und Gott sah , daß das Licht gut war . Da schi...         15         18   \n",
       "...                                                 ...        ...        ...   \n",
       "7733  Od Und wer dieser Einladung folgt . Nach diese...         40         33   \n",
       "7734                          W bezeuge . - Offenbarung         35          5   \n",
       "7735  W dem wird Gott seinen Teil am Baum des Lebens...         35         27   \n",
       "7736  Od Der , der uns als Gottes Zeuge alle diese D...         21         25   \n",
       "7737                                               AL (         13          2   \n",
       "\n",
       "       overlap VERSAO  \n",
       "0     1.000000  VELHO  \n",
       "1     0.146067  VELHO  \n",
       "2     0.346939  VELHO  \n",
       "3     0.212121  VELHO  \n",
       "4     0.485714  VELHO  \n",
       "...        ...    ...  \n",
       "7733  0.088608   NOVO  \n",
       "7734  0.028986   NOVO  \n",
       "7735  0.391304   NOVO  \n",
       "7736  0.102041   NOVO  \n",
       "7737  0.000000   NOVO  \n",
       "\n",
       "[89565 rows x 11 columns]"
      ]
     },
     "execution_count": 10,
     "metadata": {},
     "output_type": "execute_result"
    }
   ],
   "source": [
    "df_geral"
   ]
  },
  {
   "cell_type": "code",
   "execution_count": 11,
   "metadata": {},
   "outputs": [],
   "source": [
    "df_geral.dropna(inplace=True)\n",
    "df_geral = df_geral[(df_geral.sourceLen >= 5) & (df_geral.targetLen >= 5) ]"
   ]
  },
  {
   "cell_type": "code",
   "execution_count": null,
   "metadata": {},
   "outputs": [],
   "source": [
    "selRows = df_geral[(df_geral[\"livro\"] == \"Matthäus\") & (df_geral[\"capitulo\"] == 1)  & (df_geral[\"versiculo\"] >= 1) & (df_geral[\"versiculo\"] <= 16)].index\n",
    "df_geral.drop(selRows, axis=0,inplace=True)\n",
    "\n",
    "selRows = df_geral[(df_geral[\"livro\"] == \"Lukas\") & (df_geral[\"capitulo\"] == 3)  & (df_geral[\"versiculo\"] >= 23) & (df_geral[\"versiculo\"] <= 38)].index\n",
    "df_geral.drop(selRows, axis=0,inplace=True)\n",
    "\n",
    "selRows = df_geral[(df_geral[\"livro\"] == \"Genèse\") & (df_geral[\"capitulo\"] == 5)  & (df_geral[\"versiculo\"] >= 1) & (df_geral[\"versiculo\"] <= 32)].index\n",
    "df_geral.drop(selRows, axis=0,inplace=True)\n",
    "\n",
    "selRows = df_geral[(df_geral[\"livro\"] == \"Genèse\") & (df_geral[\"capitulo\"] == 10)  & (df_geral[\"versiculo\"] >= 1) & (df_geral[\"versiculo\"] <= 32)].index\n",
    "df_geral.drop(selRows, axis=0,inplace=True)\n",
    "\n",
    "\n",
    "filter = df_geral['texto_x'].str.contains(\"2%20Chroniquese\")\n",
    "df_geral = df_geral[~filter]\n",
    "filter = df_geral['texto_x'].str.contains(\"1%20Chroniques\")\n",
    "df_geral = df_geral[~filter]\n",
    "\n",
    "\n",
    "filter = df_geral['texto_x'].str.contains(\"Copyright\")\n",
    "df_geral = df_geral[~filter]\n",
    "filter = df_geral['texto_x'].str.contains(\"®\")\n",
    "df_geral = df_geral[~filter]\n",
    "\n",
    "\n",
    "print(df_geral[\"sourceLen\"].mean())\n",
    "print(df_geral[\"targetLen\"].mean())\n",
    "print(df_geral[\"overlap\"].mean())"
   ]
  },
  {
   "cell_type": "code",
   "execution_count": null,
   "metadata": {},
   "outputs": [],
   "source": [
    "df_geral"
   ]
  },
  {
   "cell_type": "code",
   "execution_count": null,
   "metadata": {},
   "outputs": [],
   "source": [
    "df_geral.to_csv(\"./data/FILTERED/german.tsv\", sep=\"\\t\")"
   ]
  }
 ],
 "metadata": {
  "kernelspec": {
   "display_name": "torch",
   "language": "python",
   "name": "python3"
  },
  "language_info": {
   "codemirror_mode": {
    "name": "ipython",
    "version": 3
   },
   "file_extension": ".py",
   "mimetype": "text/x-python",
   "name": "python",
   "nbconvert_exporter": "python",
   "pygments_lexer": "ipython3",
   "version": "3.12.2"
  },
  "orig_nbformat": 4
 },
 "nbformat": 4,
 "nbformat_minor": 2
}
